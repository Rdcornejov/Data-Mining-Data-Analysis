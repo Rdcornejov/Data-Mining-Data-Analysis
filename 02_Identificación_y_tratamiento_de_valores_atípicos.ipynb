{
  "cells": [
    {
      "cell_type": "markdown",
      "metadata": {
        "id": "view-in-github",
        "colab_type": "text"
      },
      "source": [
        "<a href=\"https://colab.research.google.com/github/Rdcornejov/Data-Mining-Data-Analysis/blob/main/02_Identificaci%C3%B3n_y_tratamiento_de_valores_at%C3%ADpicos.ipynb\" target=\"_parent\"><img src=\"https://colab.research.google.com/assets/colab-badge.svg\" alt=\"Open In Colab\"/></a>"
      ]
    },
    {
      "cell_type": "markdown",
      "metadata": {
        "id": "cJNB1IG2Tu7J"
      },
      "source": [
        "# Identificación y tratamiento de valores atípicos"
      ]
    },
    {
      "cell_type": "markdown",
      "metadata": {
        "id": "3I1mvql1Tu7K"
      },
      "source": [
        "### Docente: M.Sc. Richard Fernández"
      ]
    },
    {
      "cell_type": "code",
      "execution_count": 1,
      "metadata": {
        "id": "sTJZUCgsTu7K"
      },
      "outputs": [],
      "source": [
        "import pandas as pd\n",
        "import matplotlib.pyplot as plt\n",
        "import seaborn as sns\n",
        "import numpy as np\n",
        "from scipy import stats"
      ]
    },
    {
      "cell_type": "code",
      "execution_count": 2,
      "metadata": {
        "id": "leXBGLMETu7K"
      },
      "outputs": [],
      "source": [
        "data = pd.read_csv('bupa.csv',sep=\";\")"
      ]
    },
    {
      "cell_type": "code",
      "execution_count": 3,
      "metadata": {
        "colab": {
          "base_uri": "https://localhost:8080/"
        },
        "id": "wYgwC4yMTu7K",
        "outputId": "d9749a24-7b54-4371-efea-ae6b65543767"
      },
      "outputs": [
        {
          "output_type": "execute_result",
          "data": {
            "text/plain": [
              "(345, 7)"
            ]
          },
          "metadata": {},
          "execution_count": 3
        }
      ],
      "source": [
        "data.shape"
      ]
    },
    {
      "cell_type": "code",
      "execution_count": 4,
      "metadata": {
        "scrolled": true,
        "colab": {
          "base_uri": "https://localhost:8080/",
          "height": 206
        },
        "id": "cHvIw9psTu7L",
        "outputId": "9bd2e274-e222-4ced-d827-3f8415b34e9e"
      },
      "outputs": [
        {
          "output_type": "execute_result",
          "data": {
            "text/plain": [
              "   V1  V2  V3  V4  V5   V6  V7\n",
              "0  85  92  45  27  31  0.0   1\n",
              "1  85  64  59  32  23  0.0   2\n",
              "2  86  54  33  16  54  0.0   2\n",
              "3  91  78  34  24  36  0.0   2\n",
              "4  87  70  12  28  10  0.0   2"
            ],
            "text/html": [
              "\n",
              "  <div id=\"df-b9fb234e-4496-4088-8d90-b655a4f88a41\" class=\"colab-df-container\">\n",
              "    <div>\n",
              "<style scoped>\n",
              "    .dataframe tbody tr th:only-of-type {\n",
              "        vertical-align: middle;\n",
              "    }\n",
              "\n",
              "    .dataframe tbody tr th {\n",
              "        vertical-align: top;\n",
              "    }\n",
              "\n",
              "    .dataframe thead th {\n",
              "        text-align: right;\n",
              "    }\n",
              "</style>\n",
              "<table border=\"1\" class=\"dataframe\">\n",
              "  <thead>\n",
              "    <tr style=\"text-align: right;\">\n",
              "      <th></th>\n",
              "      <th>V1</th>\n",
              "      <th>V2</th>\n",
              "      <th>V3</th>\n",
              "      <th>V4</th>\n",
              "      <th>V5</th>\n",
              "      <th>V6</th>\n",
              "      <th>V7</th>\n",
              "    </tr>\n",
              "  </thead>\n",
              "  <tbody>\n",
              "    <tr>\n",
              "      <th>0</th>\n",
              "      <td>85</td>\n",
              "      <td>92</td>\n",
              "      <td>45</td>\n",
              "      <td>27</td>\n",
              "      <td>31</td>\n",
              "      <td>0.0</td>\n",
              "      <td>1</td>\n",
              "    </tr>\n",
              "    <tr>\n",
              "      <th>1</th>\n",
              "      <td>85</td>\n",
              "      <td>64</td>\n",
              "      <td>59</td>\n",
              "      <td>32</td>\n",
              "      <td>23</td>\n",
              "      <td>0.0</td>\n",
              "      <td>2</td>\n",
              "    </tr>\n",
              "    <tr>\n",
              "      <th>2</th>\n",
              "      <td>86</td>\n",
              "      <td>54</td>\n",
              "      <td>33</td>\n",
              "      <td>16</td>\n",
              "      <td>54</td>\n",
              "      <td>0.0</td>\n",
              "      <td>2</td>\n",
              "    </tr>\n",
              "    <tr>\n",
              "      <th>3</th>\n",
              "      <td>91</td>\n",
              "      <td>78</td>\n",
              "      <td>34</td>\n",
              "      <td>24</td>\n",
              "      <td>36</td>\n",
              "      <td>0.0</td>\n",
              "      <td>2</td>\n",
              "    </tr>\n",
              "    <tr>\n",
              "      <th>4</th>\n",
              "      <td>87</td>\n",
              "      <td>70</td>\n",
              "      <td>12</td>\n",
              "      <td>28</td>\n",
              "      <td>10</td>\n",
              "      <td>0.0</td>\n",
              "      <td>2</td>\n",
              "    </tr>\n",
              "  </tbody>\n",
              "</table>\n",
              "</div>\n",
              "    <div class=\"colab-df-buttons\">\n",
              "\n",
              "  <div class=\"colab-df-container\">\n",
              "    <button class=\"colab-df-convert\" onclick=\"convertToInteractive('df-b9fb234e-4496-4088-8d90-b655a4f88a41')\"\n",
              "            title=\"Convert this dataframe to an interactive table.\"\n",
              "            style=\"display:none;\">\n",
              "\n",
              "  <svg xmlns=\"http://www.w3.org/2000/svg\" height=\"24px\" viewBox=\"0 -960 960 960\">\n",
              "    <path d=\"M120-120v-720h720v720H120Zm60-500h600v-160H180v160Zm220 220h160v-160H400v160Zm0 220h160v-160H400v160ZM180-400h160v-160H180v160Zm440 0h160v-160H620v160ZM180-180h160v-160H180v160Zm440 0h160v-160H620v160Z\"/>\n",
              "  </svg>\n",
              "    </button>\n",
              "\n",
              "  <style>\n",
              "    .colab-df-container {\n",
              "      display:flex;\n",
              "      gap: 12px;\n",
              "    }\n",
              "\n",
              "    .colab-df-convert {\n",
              "      background-color: #E8F0FE;\n",
              "      border: none;\n",
              "      border-radius: 50%;\n",
              "      cursor: pointer;\n",
              "      display: none;\n",
              "      fill: #1967D2;\n",
              "      height: 32px;\n",
              "      padding: 0 0 0 0;\n",
              "      width: 32px;\n",
              "    }\n",
              "\n",
              "    .colab-df-convert:hover {\n",
              "      background-color: #E2EBFA;\n",
              "      box-shadow: 0px 1px 2px rgba(60, 64, 67, 0.3), 0px 1px 3px 1px rgba(60, 64, 67, 0.15);\n",
              "      fill: #174EA6;\n",
              "    }\n",
              "\n",
              "    .colab-df-buttons div {\n",
              "      margin-bottom: 4px;\n",
              "    }\n",
              "\n",
              "    [theme=dark] .colab-df-convert {\n",
              "      background-color: #3B4455;\n",
              "      fill: #D2E3FC;\n",
              "    }\n",
              "\n",
              "    [theme=dark] .colab-df-convert:hover {\n",
              "      background-color: #434B5C;\n",
              "      box-shadow: 0px 1px 3px 1px rgba(0, 0, 0, 0.15);\n",
              "      filter: drop-shadow(0px 1px 2px rgba(0, 0, 0, 0.3));\n",
              "      fill: #FFFFFF;\n",
              "    }\n",
              "  </style>\n",
              "\n",
              "    <script>\n",
              "      const buttonEl =\n",
              "        document.querySelector('#df-b9fb234e-4496-4088-8d90-b655a4f88a41 button.colab-df-convert');\n",
              "      buttonEl.style.display =\n",
              "        google.colab.kernel.accessAllowed ? 'block' : 'none';\n",
              "\n",
              "      async function convertToInteractive(key) {\n",
              "        const element = document.querySelector('#df-b9fb234e-4496-4088-8d90-b655a4f88a41');\n",
              "        const dataTable =\n",
              "          await google.colab.kernel.invokeFunction('convertToInteractive',\n",
              "                                                    [key], {});\n",
              "        if (!dataTable) return;\n",
              "\n",
              "        const docLinkHtml = 'Like what you see? Visit the ' +\n",
              "          '<a target=\"_blank\" href=https://colab.research.google.com/notebooks/data_table.ipynb>data table notebook</a>'\n",
              "          + ' to learn more about interactive tables.';\n",
              "        element.innerHTML = '';\n",
              "        dataTable['output_type'] = 'display_data';\n",
              "        await google.colab.output.renderOutput(dataTable, element);\n",
              "        const docLink = document.createElement('div');\n",
              "        docLink.innerHTML = docLinkHtml;\n",
              "        element.appendChild(docLink);\n",
              "      }\n",
              "    </script>\n",
              "  </div>\n",
              "\n",
              "\n",
              "<div id=\"df-d2ec5d9a-664e-42fd-8454-84961b8910f3\">\n",
              "  <button class=\"colab-df-quickchart\" onclick=\"quickchart('df-d2ec5d9a-664e-42fd-8454-84961b8910f3')\"\n",
              "            title=\"Suggest charts\"\n",
              "            style=\"display:none;\">\n",
              "\n",
              "<svg xmlns=\"http://www.w3.org/2000/svg\" height=\"24px\"viewBox=\"0 0 24 24\"\n",
              "     width=\"24px\">\n",
              "    <g>\n",
              "        <path d=\"M19 3H5c-1.1 0-2 .9-2 2v14c0 1.1.9 2 2 2h14c1.1 0 2-.9 2-2V5c0-1.1-.9-2-2-2zM9 17H7v-7h2v7zm4 0h-2V7h2v10zm4 0h-2v-4h2v4z\"/>\n",
              "    </g>\n",
              "</svg>\n",
              "  </button>\n",
              "\n",
              "<style>\n",
              "  .colab-df-quickchart {\n",
              "      --bg-color: #E8F0FE;\n",
              "      --fill-color: #1967D2;\n",
              "      --hover-bg-color: #E2EBFA;\n",
              "      --hover-fill-color: #174EA6;\n",
              "      --disabled-fill-color: #AAA;\n",
              "      --disabled-bg-color: #DDD;\n",
              "  }\n",
              "\n",
              "  [theme=dark] .colab-df-quickchart {\n",
              "      --bg-color: #3B4455;\n",
              "      --fill-color: #D2E3FC;\n",
              "      --hover-bg-color: #434B5C;\n",
              "      --hover-fill-color: #FFFFFF;\n",
              "      --disabled-bg-color: #3B4455;\n",
              "      --disabled-fill-color: #666;\n",
              "  }\n",
              "\n",
              "  .colab-df-quickchart {\n",
              "    background-color: var(--bg-color);\n",
              "    border: none;\n",
              "    border-radius: 50%;\n",
              "    cursor: pointer;\n",
              "    display: none;\n",
              "    fill: var(--fill-color);\n",
              "    height: 32px;\n",
              "    padding: 0;\n",
              "    width: 32px;\n",
              "  }\n",
              "\n",
              "  .colab-df-quickchart:hover {\n",
              "    background-color: var(--hover-bg-color);\n",
              "    box-shadow: 0 1px 2px rgba(60, 64, 67, 0.3), 0 1px 3px 1px rgba(60, 64, 67, 0.15);\n",
              "    fill: var(--button-hover-fill-color);\n",
              "  }\n",
              "\n",
              "  .colab-df-quickchart-complete:disabled,\n",
              "  .colab-df-quickchart-complete:disabled:hover {\n",
              "    background-color: var(--disabled-bg-color);\n",
              "    fill: var(--disabled-fill-color);\n",
              "    box-shadow: none;\n",
              "  }\n",
              "\n",
              "  .colab-df-spinner {\n",
              "    border: 2px solid var(--fill-color);\n",
              "    border-color: transparent;\n",
              "    border-bottom-color: var(--fill-color);\n",
              "    animation:\n",
              "      spin 1s steps(1) infinite;\n",
              "  }\n",
              "\n",
              "  @keyframes spin {\n",
              "    0% {\n",
              "      border-color: transparent;\n",
              "      border-bottom-color: var(--fill-color);\n",
              "      border-left-color: var(--fill-color);\n",
              "    }\n",
              "    20% {\n",
              "      border-color: transparent;\n",
              "      border-left-color: var(--fill-color);\n",
              "      border-top-color: var(--fill-color);\n",
              "    }\n",
              "    30% {\n",
              "      border-color: transparent;\n",
              "      border-left-color: var(--fill-color);\n",
              "      border-top-color: var(--fill-color);\n",
              "      border-right-color: var(--fill-color);\n",
              "    }\n",
              "    40% {\n",
              "      border-color: transparent;\n",
              "      border-right-color: var(--fill-color);\n",
              "      border-top-color: var(--fill-color);\n",
              "    }\n",
              "    60% {\n",
              "      border-color: transparent;\n",
              "      border-right-color: var(--fill-color);\n",
              "    }\n",
              "    80% {\n",
              "      border-color: transparent;\n",
              "      border-right-color: var(--fill-color);\n",
              "      border-bottom-color: var(--fill-color);\n",
              "    }\n",
              "    90% {\n",
              "      border-color: transparent;\n",
              "      border-bottom-color: var(--fill-color);\n",
              "    }\n",
              "  }\n",
              "</style>\n",
              "\n",
              "  <script>\n",
              "    async function quickchart(key) {\n",
              "      const quickchartButtonEl =\n",
              "        document.querySelector('#' + key + ' button');\n",
              "      quickchartButtonEl.disabled = true;  // To prevent multiple clicks.\n",
              "      quickchartButtonEl.classList.add('colab-df-spinner');\n",
              "      try {\n",
              "        const charts = await google.colab.kernel.invokeFunction(\n",
              "            'suggestCharts', [key], {});\n",
              "      } catch (error) {\n",
              "        console.error('Error during call to suggestCharts:', error);\n",
              "      }\n",
              "      quickchartButtonEl.classList.remove('colab-df-spinner');\n",
              "      quickchartButtonEl.classList.add('colab-df-quickchart-complete');\n",
              "    }\n",
              "    (() => {\n",
              "      let quickchartButtonEl =\n",
              "        document.querySelector('#df-d2ec5d9a-664e-42fd-8454-84961b8910f3 button');\n",
              "      quickchartButtonEl.style.display =\n",
              "        google.colab.kernel.accessAllowed ? 'block' : 'none';\n",
              "    })();\n",
              "  </script>\n",
              "</div>\n",
              "\n",
              "    </div>\n",
              "  </div>\n"
            ],
            "application/vnd.google.colaboratory.intrinsic+json": {
              "type": "dataframe",
              "variable_name": "data",
              "summary": "{\n  \"name\": \"data\",\n  \"rows\": 345,\n  \"fields\": [\n    {\n      \"column\": \"V1\",\n      \"properties\": {\n        \"dtype\": \"number\",\n        \"std\": 4,\n        \"min\": 65,\n        \"max\": 103,\n        \"num_unique_values\": 26,\n        \"samples\": [\n          89,\n          83,\n          85\n        ],\n        \"semantic_type\": \"\",\n        \"description\": \"\"\n      }\n    },\n    {\n      \"column\": \"V2\",\n      \"properties\": {\n        \"dtype\": \"number\",\n        \"std\": 18,\n        \"min\": 23,\n        \"max\": 138,\n        \"num_unique_values\": 78,\n        \"samples\": [\n          50,\n          92,\n          75\n        ],\n        \"semantic_type\": \"\",\n        \"description\": \"\"\n      }\n    },\n    {\n      \"column\": \"V3\",\n      \"properties\": {\n        \"dtype\": \"number\",\n        \"std\": 19,\n        \"min\": 4,\n        \"max\": 155,\n        \"num_unique_values\": 67,\n        \"samples\": [\n          42,\n          18,\n          12\n        ],\n        \"semantic_type\": \"\",\n        \"description\": \"\"\n      }\n    },\n    {\n      \"column\": \"V4\",\n      \"properties\": {\n        \"dtype\": \"number\",\n        \"std\": 10,\n        \"min\": 5,\n        \"max\": 82,\n        \"num_unique_values\": 47,\n        \"samples\": [\n          30,\n          41,\n          8\n        ],\n        \"semantic_type\": \"\",\n        \"description\": \"\"\n      }\n    },\n    {\n      \"column\": \"V5\",\n      \"properties\": {\n        \"dtype\": \"number\",\n        \"std\": 39,\n        \"min\": 5,\n        \"max\": 297,\n        \"num_unique_values\": 94,\n        \"samples\": [\n          53,\n          82,\n          37\n        ],\n        \"semantic_type\": \"\",\n        \"description\": \"\"\n      }\n    },\n    {\n      \"column\": \"V6\",\n      \"properties\": {\n        \"dtype\": \"number\",\n        \"std\": 3.337835264577128,\n        \"min\": 0.0,\n        \"max\": 20.0,\n        \"num_unique_values\": 16,\n        \"samples\": [\n          0.0,\n          0.5,\n          4.0\n        ],\n        \"semantic_type\": \"\",\n        \"description\": \"\"\n      }\n    },\n    {\n      \"column\": \"V7\",\n      \"properties\": {\n        \"dtype\": \"number\",\n        \"std\": 0,\n        \"min\": 1,\n        \"max\": 2,\n        \"num_unique_values\": 2,\n        \"samples\": [\n          2,\n          1\n        ],\n        \"semantic_type\": \"\",\n        \"description\": \"\"\n      }\n    }\n  ]\n}"
            }
          },
          "metadata": {},
          "execution_count": 4
        }
      ],
      "source": [
        "data.head()"
      ]
    },
    {
      "cell_type": "code",
      "execution_count": 5,
      "metadata": {
        "scrolled": true,
        "colab": {
          "base_uri": "https://localhost:8080/",
          "height": 303
        },
        "id": "_57bFxEVTu7L",
        "outputId": "c9ab5d78-2330-445d-a54b-9435350dfa7a"
      },
      "outputs": [
        {
          "output_type": "execute_result",
          "data": {
            "text/plain": [
              "V1      int64\n",
              "V2      int64\n",
              "V3      int64\n",
              "V4      int64\n",
              "V5      int64\n",
              "V6    float64\n",
              "V7      int64\n",
              "dtype: object"
            ],
            "text/html": [
              "<div>\n",
              "<style scoped>\n",
              "    .dataframe tbody tr th:only-of-type {\n",
              "        vertical-align: middle;\n",
              "    }\n",
              "\n",
              "    .dataframe tbody tr th {\n",
              "        vertical-align: top;\n",
              "    }\n",
              "\n",
              "    .dataframe thead th {\n",
              "        text-align: right;\n",
              "    }\n",
              "</style>\n",
              "<table border=\"1\" class=\"dataframe\">\n",
              "  <thead>\n",
              "    <tr style=\"text-align: right;\">\n",
              "      <th></th>\n",
              "      <th>0</th>\n",
              "    </tr>\n",
              "  </thead>\n",
              "  <tbody>\n",
              "    <tr>\n",
              "      <th>V1</th>\n",
              "      <td>int64</td>\n",
              "    </tr>\n",
              "    <tr>\n",
              "      <th>V2</th>\n",
              "      <td>int64</td>\n",
              "    </tr>\n",
              "    <tr>\n",
              "      <th>V3</th>\n",
              "      <td>int64</td>\n",
              "    </tr>\n",
              "    <tr>\n",
              "      <th>V4</th>\n",
              "      <td>int64</td>\n",
              "    </tr>\n",
              "    <tr>\n",
              "      <th>V5</th>\n",
              "      <td>int64</td>\n",
              "    </tr>\n",
              "    <tr>\n",
              "      <th>V6</th>\n",
              "      <td>float64</td>\n",
              "    </tr>\n",
              "    <tr>\n",
              "      <th>V7</th>\n",
              "      <td>int64</td>\n",
              "    </tr>\n",
              "  </tbody>\n",
              "</table>\n",
              "</div><br><label><b>dtype:</b> object</label>"
            ]
          },
          "metadata": {},
          "execution_count": 5
        }
      ],
      "source": [
        "data.dtypes"
      ]
    },
    {
      "cell_type": "code",
      "execution_count": 6,
      "metadata": {
        "id": "pabvGnfsTu7L"
      },
      "outputs": [],
      "source": [
        "data['V7'] = data.V7.astype(object)"
      ]
    },
    {
      "cell_type": "code",
      "execution_count": 7,
      "metadata": {
        "colab": {
          "base_uri": "https://localhost:8080/",
          "height": 303
        },
        "id": "tnF7herjTu7L",
        "outputId": "acd6c312-371d-47fb-fecc-12a524458a81"
      },
      "outputs": [
        {
          "output_type": "execute_result",
          "data": {
            "text/plain": [
              "V1      int64\n",
              "V2      int64\n",
              "V3      int64\n",
              "V4      int64\n",
              "V5      int64\n",
              "V6    float64\n",
              "V7     object\n",
              "dtype: object"
            ],
            "text/html": [
              "<div>\n",
              "<style scoped>\n",
              "    .dataframe tbody tr th:only-of-type {\n",
              "        vertical-align: middle;\n",
              "    }\n",
              "\n",
              "    .dataframe tbody tr th {\n",
              "        vertical-align: top;\n",
              "    }\n",
              "\n",
              "    .dataframe thead th {\n",
              "        text-align: right;\n",
              "    }\n",
              "</style>\n",
              "<table border=\"1\" class=\"dataframe\">\n",
              "  <thead>\n",
              "    <tr style=\"text-align: right;\">\n",
              "      <th></th>\n",
              "      <th>0</th>\n",
              "    </tr>\n",
              "  </thead>\n",
              "  <tbody>\n",
              "    <tr>\n",
              "      <th>V1</th>\n",
              "      <td>int64</td>\n",
              "    </tr>\n",
              "    <tr>\n",
              "      <th>V2</th>\n",
              "      <td>int64</td>\n",
              "    </tr>\n",
              "    <tr>\n",
              "      <th>V3</th>\n",
              "      <td>int64</td>\n",
              "    </tr>\n",
              "    <tr>\n",
              "      <th>V4</th>\n",
              "      <td>int64</td>\n",
              "    </tr>\n",
              "    <tr>\n",
              "      <th>V5</th>\n",
              "      <td>int64</td>\n",
              "    </tr>\n",
              "    <tr>\n",
              "      <th>V6</th>\n",
              "      <td>float64</td>\n",
              "    </tr>\n",
              "    <tr>\n",
              "      <th>V7</th>\n",
              "      <td>object</td>\n",
              "    </tr>\n",
              "  </tbody>\n",
              "</table>\n",
              "</div><br><label><b>dtype:</b> object</label>"
            ]
          },
          "metadata": {},
          "execution_count": 7
        }
      ],
      "source": [
        "data.dtypes"
      ]
    },
    {
      "cell_type": "code",
      "execution_count": 10,
      "metadata": {
        "colab": {
          "base_uri": "https://localhost:8080/",
          "height": 206
        },
        "id": "dnnw2_Z_Tu7L",
        "outputId": "5d1467b0-4d4b-4111-e91a-b91d9e7a615f"
      },
      "outputs": [
        {
          "output_type": "execute_result",
          "data": {
            "text/plain": [
              "   V1  V2  V3  V4  V5   V6\n",
              "0  85  92  45  27  31  0.0\n",
              "1  85  64  59  32  23  0.0\n",
              "2  86  54  33  16  54  0.0\n",
              "3  91  78  34  24  36  0.0\n",
              "4  87  70  12  28  10  0.0"
            ],
            "text/html": [
              "\n",
              "  <div id=\"df-ab3dad49-9395-496b-9a5c-8ac5c51331fd\" class=\"colab-df-container\">\n",
              "    <div>\n",
              "<style scoped>\n",
              "    .dataframe tbody tr th:only-of-type {\n",
              "        vertical-align: middle;\n",
              "    }\n",
              "\n",
              "    .dataframe tbody tr th {\n",
              "        vertical-align: top;\n",
              "    }\n",
              "\n",
              "    .dataframe thead th {\n",
              "        text-align: right;\n",
              "    }\n",
              "</style>\n",
              "<table border=\"1\" class=\"dataframe\">\n",
              "  <thead>\n",
              "    <tr style=\"text-align: right;\">\n",
              "      <th></th>\n",
              "      <th>V1</th>\n",
              "      <th>V2</th>\n",
              "      <th>V3</th>\n",
              "      <th>V4</th>\n",
              "      <th>V5</th>\n",
              "      <th>V6</th>\n",
              "    </tr>\n",
              "  </thead>\n",
              "  <tbody>\n",
              "    <tr>\n",
              "      <th>0</th>\n",
              "      <td>85</td>\n",
              "      <td>92</td>\n",
              "      <td>45</td>\n",
              "      <td>27</td>\n",
              "      <td>31</td>\n",
              "      <td>0.0</td>\n",
              "    </tr>\n",
              "    <tr>\n",
              "      <th>1</th>\n",
              "      <td>85</td>\n",
              "      <td>64</td>\n",
              "      <td>59</td>\n",
              "      <td>32</td>\n",
              "      <td>23</td>\n",
              "      <td>0.0</td>\n",
              "    </tr>\n",
              "    <tr>\n",
              "      <th>2</th>\n",
              "      <td>86</td>\n",
              "      <td>54</td>\n",
              "      <td>33</td>\n",
              "      <td>16</td>\n",
              "      <td>54</td>\n",
              "      <td>0.0</td>\n",
              "    </tr>\n",
              "    <tr>\n",
              "      <th>3</th>\n",
              "      <td>91</td>\n",
              "      <td>78</td>\n",
              "      <td>34</td>\n",
              "      <td>24</td>\n",
              "      <td>36</td>\n",
              "      <td>0.0</td>\n",
              "    </tr>\n",
              "    <tr>\n",
              "      <th>4</th>\n",
              "      <td>87</td>\n",
              "      <td>70</td>\n",
              "      <td>12</td>\n",
              "      <td>28</td>\n",
              "      <td>10</td>\n",
              "      <td>0.0</td>\n",
              "    </tr>\n",
              "  </tbody>\n",
              "</table>\n",
              "</div>\n",
              "    <div class=\"colab-df-buttons\">\n",
              "\n",
              "  <div class=\"colab-df-container\">\n",
              "    <button class=\"colab-df-convert\" onclick=\"convertToInteractive('df-ab3dad49-9395-496b-9a5c-8ac5c51331fd')\"\n",
              "            title=\"Convert this dataframe to an interactive table.\"\n",
              "            style=\"display:none;\">\n",
              "\n",
              "  <svg xmlns=\"http://www.w3.org/2000/svg\" height=\"24px\" viewBox=\"0 -960 960 960\">\n",
              "    <path d=\"M120-120v-720h720v720H120Zm60-500h600v-160H180v160Zm220 220h160v-160H400v160Zm0 220h160v-160H400v160ZM180-400h160v-160H180v160Zm440 0h160v-160H620v160ZM180-180h160v-160H180v160Zm440 0h160v-160H620v160Z\"/>\n",
              "  </svg>\n",
              "    </button>\n",
              "\n",
              "  <style>\n",
              "    .colab-df-container {\n",
              "      display:flex;\n",
              "      gap: 12px;\n",
              "    }\n",
              "\n",
              "    .colab-df-convert {\n",
              "      background-color: #E8F0FE;\n",
              "      border: none;\n",
              "      border-radius: 50%;\n",
              "      cursor: pointer;\n",
              "      display: none;\n",
              "      fill: #1967D2;\n",
              "      height: 32px;\n",
              "      padding: 0 0 0 0;\n",
              "      width: 32px;\n",
              "    }\n",
              "\n",
              "    .colab-df-convert:hover {\n",
              "      background-color: #E2EBFA;\n",
              "      box-shadow: 0px 1px 2px rgba(60, 64, 67, 0.3), 0px 1px 3px 1px rgba(60, 64, 67, 0.15);\n",
              "      fill: #174EA6;\n",
              "    }\n",
              "\n",
              "    .colab-df-buttons div {\n",
              "      margin-bottom: 4px;\n",
              "    }\n",
              "\n",
              "    [theme=dark] .colab-df-convert {\n",
              "      background-color: #3B4455;\n",
              "      fill: #D2E3FC;\n",
              "    }\n",
              "\n",
              "    [theme=dark] .colab-df-convert:hover {\n",
              "      background-color: #434B5C;\n",
              "      box-shadow: 0px 1px 3px 1px rgba(0, 0, 0, 0.15);\n",
              "      filter: drop-shadow(0px 1px 2px rgba(0, 0, 0, 0.3));\n",
              "      fill: #FFFFFF;\n",
              "    }\n",
              "  </style>\n",
              "\n",
              "    <script>\n",
              "      const buttonEl =\n",
              "        document.querySelector('#df-ab3dad49-9395-496b-9a5c-8ac5c51331fd button.colab-df-convert');\n",
              "      buttonEl.style.display =\n",
              "        google.colab.kernel.accessAllowed ? 'block' : 'none';\n",
              "\n",
              "      async function convertToInteractive(key) {\n",
              "        const element = document.querySelector('#df-ab3dad49-9395-496b-9a5c-8ac5c51331fd');\n",
              "        const dataTable =\n",
              "          await google.colab.kernel.invokeFunction('convertToInteractive',\n",
              "                                                    [key], {});\n",
              "        if (!dataTable) return;\n",
              "\n",
              "        const docLinkHtml = 'Like what you see? Visit the ' +\n",
              "          '<a target=\"_blank\" href=https://colab.research.google.com/notebooks/data_table.ipynb>data table notebook</a>'\n",
              "          + ' to learn more about interactive tables.';\n",
              "        element.innerHTML = '';\n",
              "        dataTable['output_type'] = 'display_data';\n",
              "        await google.colab.output.renderOutput(dataTable, element);\n",
              "        const docLink = document.createElement('div');\n",
              "        docLink.innerHTML = docLinkHtml;\n",
              "        element.appendChild(docLink);\n",
              "      }\n",
              "    </script>\n",
              "  </div>\n",
              "\n",
              "\n",
              "<div id=\"df-1c894c1f-ec6e-4228-8b1a-7cfe8dc00e93\">\n",
              "  <button class=\"colab-df-quickchart\" onclick=\"quickchart('df-1c894c1f-ec6e-4228-8b1a-7cfe8dc00e93')\"\n",
              "            title=\"Suggest charts\"\n",
              "            style=\"display:none;\">\n",
              "\n",
              "<svg xmlns=\"http://www.w3.org/2000/svg\" height=\"24px\"viewBox=\"0 0 24 24\"\n",
              "     width=\"24px\">\n",
              "    <g>\n",
              "        <path d=\"M19 3H5c-1.1 0-2 .9-2 2v14c0 1.1.9 2 2 2h14c1.1 0 2-.9 2-2V5c0-1.1-.9-2-2-2zM9 17H7v-7h2v7zm4 0h-2V7h2v10zm4 0h-2v-4h2v4z\"/>\n",
              "    </g>\n",
              "</svg>\n",
              "  </button>\n",
              "\n",
              "<style>\n",
              "  .colab-df-quickchart {\n",
              "      --bg-color: #E8F0FE;\n",
              "      --fill-color: #1967D2;\n",
              "      --hover-bg-color: #E2EBFA;\n",
              "      --hover-fill-color: #174EA6;\n",
              "      --disabled-fill-color: #AAA;\n",
              "      --disabled-bg-color: #DDD;\n",
              "  }\n",
              "\n",
              "  [theme=dark] .colab-df-quickchart {\n",
              "      --bg-color: #3B4455;\n",
              "      --fill-color: #D2E3FC;\n",
              "      --hover-bg-color: #434B5C;\n",
              "      --hover-fill-color: #FFFFFF;\n",
              "      --disabled-bg-color: #3B4455;\n",
              "      --disabled-fill-color: #666;\n",
              "  }\n",
              "\n",
              "  .colab-df-quickchart {\n",
              "    background-color: var(--bg-color);\n",
              "    border: none;\n",
              "    border-radius: 50%;\n",
              "    cursor: pointer;\n",
              "    display: none;\n",
              "    fill: var(--fill-color);\n",
              "    height: 32px;\n",
              "    padding: 0;\n",
              "    width: 32px;\n",
              "  }\n",
              "\n",
              "  .colab-df-quickchart:hover {\n",
              "    background-color: var(--hover-bg-color);\n",
              "    box-shadow: 0 1px 2px rgba(60, 64, 67, 0.3), 0 1px 3px 1px rgba(60, 64, 67, 0.15);\n",
              "    fill: var(--button-hover-fill-color);\n",
              "  }\n",
              "\n",
              "  .colab-df-quickchart-complete:disabled,\n",
              "  .colab-df-quickchart-complete:disabled:hover {\n",
              "    background-color: var(--disabled-bg-color);\n",
              "    fill: var(--disabled-fill-color);\n",
              "    box-shadow: none;\n",
              "  }\n",
              "\n",
              "  .colab-df-spinner {\n",
              "    border: 2px solid var(--fill-color);\n",
              "    border-color: transparent;\n",
              "    border-bottom-color: var(--fill-color);\n",
              "    animation:\n",
              "      spin 1s steps(1) infinite;\n",
              "  }\n",
              "\n",
              "  @keyframes spin {\n",
              "    0% {\n",
              "      border-color: transparent;\n",
              "      border-bottom-color: var(--fill-color);\n",
              "      border-left-color: var(--fill-color);\n",
              "    }\n",
              "    20% {\n",
              "      border-color: transparent;\n",
              "      border-left-color: var(--fill-color);\n",
              "      border-top-color: var(--fill-color);\n",
              "    }\n",
              "    30% {\n",
              "      border-color: transparent;\n",
              "      border-left-color: var(--fill-color);\n",
              "      border-top-color: var(--fill-color);\n",
              "      border-right-color: var(--fill-color);\n",
              "    }\n",
              "    40% {\n",
              "      border-color: transparent;\n",
              "      border-right-color: var(--fill-color);\n",
              "      border-top-color: var(--fill-color);\n",
              "    }\n",
              "    60% {\n",
              "      border-color: transparent;\n",
              "      border-right-color: var(--fill-color);\n",
              "    }\n",
              "    80% {\n",
              "      border-color: transparent;\n",
              "      border-right-color: var(--fill-color);\n",
              "      border-bottom-color: var(--fill-color);\n",
              "    }\n",
              "    90% {\n",
              "      border-color: transparent;\n",
              "      border-bottom-color: var(--fill-color);\n",
              "    }\n",
              "  }\n",
              "</style>\n",
              "\n",
              "  <script>\n",
              "    async function quickchart(key) {\n",
              "      const quickchartButtonEl =\n",
              "        document.querySelector('#' + key + ' button');\n",
              "      quickchartButtonEl.disabled = true;  // To prevent multiple clicks.\n",
              "      quickchartButtonEl.classList.add('colab-df-spinner');\n",
              "      try {\n",
              "        const charts = await google.colab.kernel.invokeFunction(\n",
              "            'suggestCharts', [key], {});\n",
              "      } catch (error) {\n",
              "        console.error('Error during call to suggestCharts:', error);\n",
              "      }\n",
              "      quickchartButtonEl.classList.remove('colab-df-spinner');\n",
              "      quickchartButtonEl.classList.add('colab-df-quickchart-complete');\n",
              "    }\n",
              "    (() => {\n",
              "      let quickchartButtonEl =\n",
              "        document.querySelector('#df-1c894c1f-ec6e-4228-8b1a-7cfe8dc00e93 button');\n",
              "      quickchartButtonEl.style.display =\n",
              "        google.colab.kernel.accessAllowed ? 'block' : 'none';\n",
              "    })();\n",
              "  </script>\n",
              "</div>\n",
              "\n",
              "    </div>\n",
              "  </div>\n"
            ],
            "application/vnd.google.colaboratory.intrinsic+json": {
              "type": "dataframe",
              "variable_name": "data_X",
              "summary": "{\n  \"name\": \"data_X\",\n  \"rows\": 345,\n  \"fields\": [\n    {\n      \"column\": \"V1\",\n      \"properties\": {\n        \"dtype\": \"number\",\n        \"std\": 4,\n        \"min\": 65,\n        \"max\": 103,\n        \"num_unique_values\": 26,\n        \"samples\": [\n          89,\n          83,\n          85\n        ],\n        \"semantic_type\": \"\",\n        \"description\": \"\"\n      }\n    },\n    {\n      \"column\": \"V2\",\n      \"properties\": {\n        \"dtype\": \"number\",\n        \"std\": 18,\n        \"min\": 23,\n        \"max\": 138,\n        \"num_unique_values\": 78,\n        \"samples\": [\n          50,\n          92,\n          75\n        ],\n        \"semantic_type\": \"\",\n        \"description\": \"\"\n      }\n    },\n    {\n      \"column\": \"V3\",\n      \"properties\": {\n        \"dtype\": \"number\",\n        \"std\": 19,\n        \"min\": 4,\n        \"max\": 155,\n        \"num_unique_values\": 67,\n        \"samples\": [\n          42,\n          18,\n          12\n        ],\n        \"semantic_type\": \"\",\n        \"description\": \"\"\n      }\n    },\n    {\n      \"column\": \"V4\",\n      \"properties\": {\n        \"dtype\": \"number\",\n        \"std\": 10,\n        \"min\": 5,\n        \"max\": 82,\n        \"num_unique_values\": 47,\n        \"samples\": [\n          30,\n          41,\n          8\n        ],\n        \"semantic_type\": \"\",\n        \"description\": \"\"\n      }\n    },\n    {\n      \"column\": \"V5\",\n      \"properties\": {\n        \"dtype\": \"number\",\n        \"std\": 39,\n        \"min\": 5,\n        \"max\": 297,\n        \"num_unique_values\": 94,\n        \"samples\": [\n          53,\n          82,\n          37\n        ],\n        \"semantic_type\": \"\",\n        \"description\": \"\"\n      }\n    },\n    {\n      \"column\": \"V6\",\n      \"properties\": {\n        \"dtype\": \"number\",\n        \"std\": 3.337835264577128,\n        \"min\": 0.0,\n        \"max\": 20.0,\n        \"num_unique_values\": 16,\n        \"samples\": [\n          0.0,\n          0.5,\n          4.0\n        ],\n        \"semantic_type\": \"\",\n        \"description\": \"\"\n      }\n    }\n  ]\n}"
            }
          },
          "metadata": {},
          "execution_count": 10
        }
      ],
      "source": [
        "data_X = data.drop('V7', axis = 1)\n",
        "data_X.head()"
      ]
    },
    {
      "cell_type": "code",
      "execution_count": 11,
      "metadata": {
        "scrolled": true,
        "colab": {
          "base_uri": "https://localhost:8080/",
          "height": 430
        },
        "id": "8VO34390Tu7L",
        "outputId": "58f76e26-b653-4a8e-a73e-a30cb6887402"
      },
      "outputs": [
        {
          "output_type": "display_data",
          "data": {
            "text/plain": [
              "<Figure size 640x480 with 1 Axes>"
            ],
            "image/png": "[encoded data removed]"
          },
          "metadata": {}
        }
      ],
      "source": [
        "#1.Boxplot\n",
        "plt.boxplot(data_X)\n",
        "plt.show()"
      ]
    },
    {
      "cell_type": "code",
      "execution_count": 12,
      "metadata": {
        "scrolled": true,
        "id": "jTE3hGhQTu7M",
        "outputId": "51f83c8e-2c0a-4b47-f84f-8a37be7e6489",
        "colab": {
          "base_uri": "https://localhost:8080/",
          "height": 430
        }
      },
      "outputs": [
        {
          "output_type": "display_data",
          "data": {
            "text/plain": [
              "<Figure size 640x480 with 1 Axes>"
            ],
            "image/png": "[encoded data removed]"
          },
          "metadata": {}
        }
      ],
      "source": [
        "sns.boxplot(data=data_X, orient=\"h\", palette=\"Set2\")\n",
        "plt.show()"
      ]
    },
    {
      "cell_type": "code",
      "execution_count": 13,
      "metadata": {
        "id": "pcPTvDguTu7M",
        "outputId": "345537fc-d0dd-4ab5-f393-060452ad43cd",
        "colab": {
          "base_uri": "https://localhost:8080/",
          "height": 430
        }
      },
      "outputs": [
        {
          "output_type": "display_data",
          "data": {
            "text/plain": [
              "<Figure size 640x480 with 1 Axes>"
            ],
            "image/png": "[encoded data removed]"
          },
          "metadata": {}
        }
      ],
      "source": [
        "sns.boxplot(data=data_X, orient=\"v\", palette=\"Set2\")\n",
        "plt.show()"
      ]
    },
    {
      "cell_type": "markdown",
      "source": [
        "Metodo Z_Score: mide cuantas desviaciones estandar está alejado de la media. Aqui le pusieron 3 veces alejado como maximo."
      ],
      "metadata": {
        "id": "oLfFFpFunwu_"
      }
    },
    {
      "cell_type": "code",
      "source": [
        "#2.Outlier\n",
        "\n",
        "def z_score_method(df, variable_name):\n",
        "  columns = df.columns\n",
        "  z = np.abs(stats.zscore(df[variable_name]))\n",
        "  threshold = 3\n",
        "  outlier = []\n",
        "  index=0\n",
        "\n",
        "  for i, v in enumerate(z):\n",
        "      if v > threshold:\n",
        "          outlier.append(i)\n",
        "      else:\n",
        "          continue\n",
        "  return outlier"
      ],
      "metadata": {
        "id": "2Q8e5P8ol4df"
      },
      "execution_count": 21,
      "outputs": []
    },
    {
      "cell_type": "code",
      "execution_count": 27,
      "metadata": {
        "scrolled": true,
        "id": "fu0dXECHTu7M",
        "colab": {
          "base_uri": "https://localhost:8080/"
        },
        "outputId": "7f9f1b2c-1ce5-4920-fa04-b9d3685ab98d"
      },
      "outputs": [
        {
          "output_type": "stream",
          "name": "stdout",
          "text": [
            "[223]\n"
          ]
        }
      ],
      "source": [
        "outlier_z = z_score_method(df=data_X,variable_name='V1')\n",
        "print(outlier_z)"
      ]
    },
    {
      "cell_type": "code",
      "execution_count": 28,
      "metadata": {
        "id": "HnYE6X-6Tu7M",
        "colab": {
          "base_uri": "https://localhost:8080/"
        },
        "outputId": "1076c890-f209-4371-cfa2-abe77fb68dd6"
      },
      "outputs": [
        {
          "output_type": "stream",
          "name": "stdout",
          "text": [
            "[122, 334]\n"
          ]
        }
      ],
      "source": [
        "outlier_z = z_score_method(df=data_X,variable_name='V2')\n",
        "print(outlier_z)"
      ]
    },
    {
      "cell_type": "code",
      "execution_count": 29,
      "metadata": {
        "id": "kORqrvcZTu7M",
        "colab": {
          "base_uri": "https://localhost:8080/"
        },
        "outputId": "ad79849e-8184-4be1-fe6f-0f1b0ae8d128"
      },
      "outputs": [
        {
          "output_type": "stream",
          "name": "stdout",
          "text": [
            "[35, 133, 232, 299, 316]\n"
          ]
        }
      ],
      "source": [
        "outlier_z = z_score_method(df=data_X,variable_name='V3')\n",
        "print(outlier_z)"
      ]
    },
    {
      "cell_type": "code",
      "execution_count": 30,
      "metadata": {
        "id": "RjXbBkIuTu7M",
        "colab": {
          "base_uri": "https://localhost:8080/"
        },
        "outputId": "81067f0d-1660-424c-f45a-f4ee32d95a9b"
      },
      "outputs": [
        {
          "output_type": "stream",
          "name": "stdout",
          "text": [
            "[35, 110, 185, 232, 285, 299, 316, 322]\n"
          ]
        }
      ],
      "source": [
        "outlier_z = z_score_method(df=data_X,variable_name='V4')\n",
        "print(outlier_z)"
      ]
    },
    {
      "cell_type": "code",
      "execution_count": 31,
      "metadata": {
        "id": "Q3T6fMNATu7M",
        "colab": {
          "base_uri": "https://localhost:8080/"
        },
        "outputId": "a230e1ff-c12c-462d-b418-e942737bd278"
      },
      "outputs": [
        {
          "output_type": "stream",
          "name": "stdout",
          "text": [
            "[76, 84, 114, 178, 189, 232, 315, 322, 330, 341]\n"
          ]
        }
      ],
      "source": [
        "outlier_z = z_score_method(df=data_X,variable_name='V5')\n",
        "print(outlier_z)"
      ]
    },
    {
      "cell_type": "code",
      "execution_count": 33,
      "metadata": {
        "scrolled": true,
        "id": "ybJsp7AcTu7M",
        "colab": {
          "base_uri": "https://localhost:8080/"
        },
        "outputId": "dba4f0b3-c161-4e15-fd90-413f7430adfa"
      },
      "outputs": [
        {
          "output_type": "stream",
          "name": "stdout",
          "text": [
            "[188, 189, 342, 343, 344]\n"
          ]
        }
      ],
      "source": [
        "outlier_z = z_score_method(df=data_X,variable_name='V6')\n",
        "print(outlier_z)"
      ]
    },
    {
      "cell_type": "markdown",
      "source": [
        "## Tratamiento 1\n",
        "\n",
        "Las variables se aproximan a una distribución normal"
      ],
      "metadata": {
        "id": "pVadrzOwoCWd"
      }
    },
    {
      "cell_type": "code",
      "execution_count": 35,
      "metadata": {
        "id": "HI3qbbY_Tu7N",
        "outputId": "f99715f7-546f-46cc-90b4-bff8a84842f4",
        "colab": {
          "base_uri": "https://localhost:8080/",
          "height": 206
        }
      },
      "outputs": [
        {
          "output_type": "execute_result",
          "data": {
            "text/plain": [
              "   V1  V2  V3  V4  V5   V6\n",
              "0  85  92  45  27  31  0.0\n",
              "1  85  64  59  32  23  0.0\n",
              "2  86  54  33  16  54  0.0\n",
              "3  91  78  34  24  36  0.0\n",
              "4  87  70  12  28  10  0.0"
            ],
            "text/html": [
              "\n",
              "  <div id=\"df-41f33c0a-b93e-4869-9b6f-0889c9b47181\" class=\"colab-df-container\">\n",
              "    <div>\n",
              "<style scoped>\n",
              "    .dataframe tbody tr th:only-of-type {\n",
              "        vertical-align: middle;\n",
              "    }\n",
              "\n",
              "    .dataframe tbody tr th {\n",
              "        vertical-align: top;\n",
              "    }\n",
              "\n",
              "    .dataframe thead th {\n",
              "        text-align: right;\n",
              "    }\n",
              "</style>\n",
              "<table border=\"1\" class=\"dataframe\">\n",
              "  <thead>\n",
              "    <tr style=\"text-align: right;\">\n",
              "      <th></th>\n",
              "      <th>V1</th>\n",
              "      <th>V2</th>\n",
              "      <th>V3</th>\n",
              "      <th>V4</th>\n",
              "      <th>V5</th>\n",
              "      <th>V6</th>\n",
              "    </tr>\n",
              "  </thead>\n",
              "  <tbody>\n",
              "    <tr>\n",
              "      <th>0</th>\n",
              "      <td>85</td>\n",
              "      <td>92</td>\n",
              "      <td>45</td>\n",
              "      <td>27</td>\n",
              "      <td>31</td>\n",
              "      <td>0.0</td>\n",
              "    </tr>\n",
              "    <tr>\n",
              "      <th>1</th>\n",
              "      <td>85</td>\n",
              "      <td>64</td>\n",
              "      <td>59</td>\n",
              "      <td>32</td>\n",
              "      <td>23</td>\n",
              "      <td>0.0</td>\n",
              "    </tr>\n",
              "    <tr>\n",
              "      <th>2</th>\n",
              "      <td>86</td>\n",
              "      <td>54</td>\n",
              "      <td>33</td>\n",
              "      <td>16</td>\n",
              "      <td>54</td>\n",
              "      <td>0.0</td>\n",
              "    </tr>\n",
              "    <tr>\n",
              "      <th>3</th>\n",
              "      <td>91</td>\n",
              "      <td>78</td>\n",
              "      <td>34</td>\n",
              "      <td>24</td>\n",
              "      <td>36</td>\n",
              "      <td>0.0</td>\n",
              "    </tr>\n",
              "    <tr>\n",
              "      <th>4</th>\n",
              "      <td>87</td>\n",
              "      <td>70</td>\n",
              "      <td>12</td>\n",
              "      <td>28</td>\n",
              "      <td>10</td>\n",
              "      <td>0.0</td>\n",
              "    </tr>\n",
              "  </tbody>\n",
              "</table>\n",
              "</div>\n",
              "    <div class=\"colab-df-buttons\">\n",
              "\n",
              "  <div class=\"colab-df-container\">\n",
              "    <button class=\"colab-df-convert\" onclick=\"convertToInteractive('df-41f33c0a-b93e-4869-9b6f-0889c9b47181')\"\n",
              "            title=\"Convert this dataframe to an interactive table.\"\n",
              "            style=\"display:none;\">\n",
              "\n",
              "  <svg xmlns=\"http://www.w3.org/2000/svg\" height=\"24px\" viewBox=\"0 -960 960 960\">\n",
              "    <path d=\"M120-120v-720h720v720H120Zm60-500h600v-160H180v160Zm220 220h160v-160H400v160Zm0 220h160v-160H400v160ZM180-400h160v-160H180v160Zm440 0h160v-160H620v160ZM180-180h160v-160H180v160Zm440 0h160v-160H620v160Z\"/>\n",
              "  </svg>\n",
              "    </button>\n",
              "\n",
              "  <style>\n",
              "    .colab-df-container {\n",
              "      display:flex;\n",
              "      gap: 12px;\n",
              "    }\n",
              "\n",
              "    .colab-df-convert {\n",
              "      background-color: #E8F0FE;\n",
              "      border: none;\n",
              "      border-radius: 50%;\n",
              "      cursor: pointer;\n",
              "      display: none;\n",
              "      fill: #1967D2;\n",
              "      height: 32px;\n",
              "      padding: 0 0 0 0;\n",
              "      width: 32px;\n",
              "    }\n",
              "\n",
              "    .colab-df-convert:hover {\n",
              "      background-color: #E2EBFA;\n",
              "      box-shadow: 0px 1px 2px rgba(60, 64, 67, 0.3), 0px 1px 3px 1px rgba(60, 64, 67, 0.15);\n",
              "      fill: #174EA6;\n",
              "    }\n",
              "\n",
              "    .colab-df-buttons div {\n",
              "      margin-bottom: 4px;\n",
              "    }\n",
              "\n",
              "    [theme=dark] .colab-df-convert {\n",
              "      background-color: #3B4455;\n",
              "      fill: #D2E3FC;\n",
              "    }\n",
              "\n",
              "    [theme=dark] .colab-df-convert:hover {\n",
              "      background-color: #434B5C;\n",
              "      box-shadow: 0px 1px 3px 1px rgba(0, 0, 0, 0.15);\n",
              "      filter: drop-shadow(0px 1px 2px rgba(0, 0, 0, 0.3));\n",
              "      fill: #FFFFFF;\n",
              "    }\n",
              "  </style>\n",
              "\n",
              "    <script>\n",
              "      const buttonEl =\n",
              "        document.querySelector('#df-41f33c0a-b93e-4869-9b6f-0889c9b47181 button.colab-df-convert');\n",
              "      buttonEl.style.display =\n",
              "        google.colab.kernel.accessAllowed ? 'block' : 'none';\n",
              "\n",
              "      async function convertToInteractive(key) {\n",
              "        const element = document.querySelector('#df-41f33c0a-b93e-4869-9b6f-0889c9b47181');\n",
              "        const dataTable =\n",
              "          await google.colab.kernel.invokeFunction('convertToInteractive',\n",
              "                                                    [key], {});\n",
              "        if (!dataTable) return;\n",
              "\n",
              "        const docLinkHtml = 'Like what you see? Visit the ' +\n",
              "          '<a target=\"_blank\" href=https://colab.research.google.com/notebooks/data_table.ipynb>data table notebook</a>'\n",
              "          + ' to learn more about interactive tables.';\n",
              "        element.innerHTML = '';\n",
              "        dataTable['output_type'] = 'display_data';\n",
              "        await google.colab.output.renderOutput(dataTable, element);\n",
              "        const docLink = document.createElement('div');\n",
              "        docLink.innerHTML = docLinkHtml;\n",
              "        element.appendChild(docLink);\n",
              "      }\n",
              "    </script>\n",
              "  </div>\n",
              "\n",
              "\n",
              "<div id=\"df-6546ab3d-02a2-40a4-b459-508bf919f9ec\">\n",
              "  <button class=\"colab-df-quickchart\" onclick=\"quickchart('df-6546ab3d-02a2-40a4-b459-508bf919f9ec')\"\n",
              "            title=\"Suggest charts\"\n",
              "            style=\"display:none;\">\n",
              "\n",
              "<svg xmlns=\"http://www.w3.org/2000/svg\" height=\"24px\"viewBox=\"0 0 24 24\"\n",
              "     width=\"24px\">\n",
              "    <g>\n",
              "        <path d=\"M19 3H5c-1.1 0-2 .9-2 2v14c0 1.1.9 2 2 2h14c1.1 0 2-.9 2-2V5c0-1.1-.9-2-2-2zM9 17H7v-7h2v7zm4 0h-2V7h2v10zm4 0h-2v-4h2v4z\"/>\n",
              "    </g>\n",
              "</svg>\n",
              "  </button>\n",
              "\n",
              "<style>\n",
              "  .colab-df-quickchart {\n",
              "      --bg-color: #E8F0FE;\n",
              "      --fill-color: #1967D2;\n",
              "      --hover-bg-color: #E2EBFA;\n",
              "      --hover-fill-color: #174EA6;\n",
              "      --disabled-fill-color: #AAA;\n",
              "      --disabled-bg-color: #DDD;\n",
              "  }\n",
              "\n",
              "  [theme=dark] .colab-df-quickchart {\n",
              "      --bg-color: #3B4455;\n",
              "      --fill-color: #D2E3FC;\n",
              "      --hover-bg-color: #434B5C;\n",
              "      --hover-fill-color: #FFFFFF;\n",
              "      --disabled-bg-color: #3B4455;\n",
              "      --disabled-fill-color: #666;\n",
              "  }\n",
              "\n",
              "  .colab-df-quickchart {\n",
              "    background-color: var(--bg-color);\n",
              "    border: none;\n",
              "    border-radius: 50%;\n",
              "    cursor: pointer;\n",
              "    display: none;\n",
              "    fill: var(--fill-color);\n",
              "    height: 32px;\n",
              "    padding: 0;\n",
              "    width: 32px;\n",
              "  }\n",
              "\n",
              "  .colab-df-quickchart:hover {\n",
              "    background-color: var(--hover-bg-color);\n",
              "    box-shadow: 0 1px 2px rgba(60, 64, 67, 0.3), 0 1px 3px 1px rgba(60, 64, 67, 0.15);\n",
              "    fill: var(--button-hover-fill-color);\n",
              "  }\n",
              "\n",
              "  .colab-df-quickchart-complete:disabled,\n",
              "  .colab-df-quickchart-complete:disabled:hover {\n",
              "    background-color: var(--disabled-bg-color);\n",
              "    fill: var(--disabled-fill-color);\n",
              "    box-shadow: none;\n",
              "  }\n",
              "\n",
              "  .colab-df-spinner {\n",
              "    border: 2px solid var(--fill-color);\n",
              "    border-color: transparent;\n",
              "    border-bottom-color: var(--fill-color);\n",
              "    animation:\n",
              "      spin 1s steps(1) infinite;\n",
              "  }\n",
              "\n",
              "  @keyframes spin {\n",
              "    0% {\n",
              "      border-color: transparent;\n",
              "      border-bottom-color: var(--fill-color);\n",
              "      border-left-color: var(--fill-color);\n",
              "    }\n",
              "    20% {\n",
              "      border-color: transparent;\n",
              "      border-left-color: var(--fill-color);\n",
              "      border-top-color: var(--fill-color);\n",
              "    }\n",
              "    30% {\n",
              "      border-color: transparent;\n",
              "      border-left-color: var(--fill-color);\n",
              "      border-top-color: var(--fill-color);\n",
              "      border-right-color: var(--fill-color);\n",
              "    }\n",
              "    40% {\n",
              "      border-color: transparent;\n",
              "      border-right-color: var(--fill-color);\n",
              "      border-top-color: var(--fill-color);\n",
              "    }\n",
              "    60% {\n",
              "      border-color: transparent;\n",
              "      border-right-color: var(--fill-color);\n",
              "    }\n",
              "    80% {\n",
              "      border-color: transparent;\n",
              "      border-right-color: var(--fill-color);\n",
              "      border-bottom-color: var(--fill-color);\n",
              "    }\n",
              "    90% {\n",
              "      border-color: transparent;\n",
              "      border-bottom-color: var(--fill-color);\n",
              "    }\n",
              "  }\n",
              "</style>\n",
              "\n",
              "  <script>\n",
              "    async function quickchart(key) {\n",
              "      const quickchartButtonEl =\n",
              "        document.querySelector('#' + key + ' button');\n",
              "      quickchartButtonEl.disabled = true;  // To prevent multiple clicks.\n",
              "      quickchartButtonEl.classList.add('colab-df-spinner');\n",
              "      try {\n",
              "        const charts = await google.colab.kernel.invokeFunction(\n",
              "            'suggestCharts', [key], {});\n",
              "      } catch (error) {\n",
              "        console.error('Error during call to suggestCharts:', error);\n",
              "      }\n",
              "      quickchartButtonEl.classList.remove('colab-df-spinner');\n",
              "      quickchartButtonEl.classList.add('colab-df-quickchart-complete');\n",
              "    }\n",
              "    (() => {\n",
              "      let quickchartButtonEl =\n",
              "        document.querySelector('#df-6546ab3d-02a2-40a4-b459-508bf919f9ec button');\n",
              "      quickchartButtonEl.style.display =\n",
              "        google.colab.kernel.accessAllowed ? 'block' : 'none';\n",
              "    })();\n",
              "  </script>\n",
              "</div>\n",
              "\n",
              "    </div>\n",
              "  </div>\n"
            ],
            "application/vnd.google.colaboratory.intrinsic+json": {
              "type": "dataframe",
              "variable_name": "data_X",
              "summary": "{\n  \"name\": \"data_X\",\n  \"rows\": 345,\n  \"fields\": [\n    {\n      \"column\": \"V1\",\n      \"properties\": {\n        \"dtype\": \"number\",\n        \"std\": 4,\n        \"min\": 65,\n        \"max\": 103,\n        \"num_unique_values\": 26,\n        \"samples\": [\n          89,\n          83,\n          85\n        ],\n        \"semantic_type\": \"\",\n        \"description\": \"\"\n      }\n    },\n    {\n      \"column\": \"V2\",\n      \"properties\": {\n        \"dtype\": \"number\",\n        \"std\": 18,\n        \"min\": 23,\n        \"max\": 138,\n        \"num_unique_values\": 78,\n        \"samples\": [\n          50,\n          92,\n          75\n        ],\n        \"semantic_type\": \"\",\n        \"description\": \"\"\n      }\n    },\n    {\n      \"column\": \"V3\",\n      \"properties\": {\n        \"dtype\": \"number\",\n        \"std\": 19,\n        \"min\": 4,\n        \"max\": 155,\n        \"num_unique_values\": 67,\n        \"samples\": [\n          42,\n          18,\n          12\n        ],\n        \"semantic_type\": \"\",\n        \"description\": \"\"\n      }\n    },\n    {\n      \"column\": \"V4\",\n      \"properties\": {\n        \"dtype\": \"number\",\n        \"std\": 10,\n        \"min\": 5,\n        \"max\": 82,\n        \"num_unique_values\": 47,\n        \"samples\": [\n          30,\n          41,\n          8\n        ],\n        \"semantic_type\": \"\",\n        \"description\": \"\"\n      }\n    },\n    {\n      \"column\": \"V5\",\n      \"properties\": {\n        \"dtype\": \"number\",\n        \"std\": 39,\n        \"min\": 5,\n        \"max\": 297,\n        \"num_unique_values\": 94,\n        \"samples\": [\n          53,\n          82,\n          37\n        ],\n        \"semantic_type\": \"\",\n        \"description\": \"\"\n      }\n    },\n    {\n      \"column\": \"V6\",\n      \"properties\": {\n        \"dtype\": \"number\",\n        \"std\": 3.337835264577128,\n        \"min\": 0.0,\n        \"max\": 20.0,\n        \"num_unique_values\": 16,\n        \"samples\": [\n          0.0,\n          0.5,\n          4.0\n        ],\n        \"semantic_type\": \"\",\n        \"description\": \"\"\n      }\n    }\n  ]\n}"
            }
          },
          "metadata": {},
          "execution_count": 35
        }
      ],
      "source": [
        "data_X = data.drop('V7', axis= 1)\n",
        "data_X.head()"
      ]
    },
    {
      "cell_type": "markdown",
      "source": [
        "## Prueba de normalidad\n",
        "- Ho: las variables se aproximan a una distribución normal\n",
        "- Ha: las variables NO se aproximan a una distribución normal\n",
        "\n",
        "\n",
        "- Si pvalue < 5% => Se rechaza la Ho, a un nivel de confianza de 95%, la variable no se aproxima a una distribución normal\n",
        "\n",
        "- Si pvalue > 5% => No se rechaza la Ho, a un nivel de confianza de 95%, la variable se aproxima a una distribución normal"
      ],
      "metadata": {
        "id": "FQ2aQogupMVl"
      }
    },
    {
      "cell_type": "code",
      "execution_count": 36,
      "metadata": {
        "id": "6lpRE-FJTu7N",
        "outputId": "253ef7e7-6cad-41b5-e8bf-3fed7cdbba7e",
        "colab": {
          "base_uri": "https://localhost:8080/"
        }
      },
      "outputs": [
        {
          "output_type": "execute_result",
          "data": {
            "text/plain": [
              "ShapiroResult(statistic=0.9721210720214322, pvalue=3.3408291692175986e-06)"
            ]
          },
          "metadata": {},
          "execution_count": 36
        }
      ],
      "source": [
        "stats.shapiro(data_X.V1)"
      ]
    },
    {
      "cell_type": "code",
      "execution_count": 37,
      "metadata": {
        "id": "BPquO7P5Tu7N",
        "outputId": "670cc36e-0e7e-4028-8f2c-4ac957a5d47e",
        "colab": {
          "base_uri": "https://localhost:8080/"
        }
      },
      "outputs": [
        {
          "output_type": "execute_result",
          "data": {
            "text/plain": [
              "ShapiroResult(statistic=0.9662434242707602, pvalue=3.6045510771686095e-07)"
            ]
          },
          "metadata": {},
          "execution_count": 37
        }
      ],
      "source": [
        "stats.shapiro(data_X.V2)"
      ]
    },
    {
      "cell_type": "code",
      "execution_count": 38,
      "metadata": {
        "id": "EB3NGnGgTu7N",
        "outputId": "85800dcf-4fb5-4c4d-ac06-0dad4adec402",
        "colab": {
          "base_uri": "https://localhost:8080/"
        }
      },
      "outputs": [
        {
          "output_type": "execute_result",
          "data": {
            "text/plain": [
              "ShapiroResult(statistic=0.7289102992482928, pvalue=2.5798791941871481e-23)"
            ]
          },
          "metadata": {},
          "execution_count": 38
        }
      ],
      "source": [
        "stats.shapiro(data_X.V3)"
      ]
    },
    {
      "cell_type": "code",
      "execution_count": 39,
      "metadata": {
        "id": "i2zudeVtTu7N",
        "outputId": "5c9a09eb-641d-476b-9a50-f05a89590570",
        "colab": {
          "base_uri": "https://localhost:8080/"
        }
      },
      "outputs": [
        {
          "output_type": "execute_result",
          "data": {
            "text/plain": [
              "ShapiroResult(statistic=0.8149622094153431, pvalue=1.4028839075597481e-19)"
            ]
          },
          "metadata": {},
          "execution_count": 39
        }
      ],
      "source": [
        "stats.shapiro(data_X.V4)"
      ]
    },
    {
      "cell_type": "code",
      "execution_count": 40,
      "metadata": {
        "id": "Bca4VuXPTu7N",
        "outputId": "df680abf-1fe0-42d7-dc5d-2adc8348b961",
        "colab": {
          "base_uri": "https://localhost:8080/"
        }
      },
      "outputs": [
        {
          "output_type": "execute_result",
          "data": {
            "text/plain": [
              "ShapiroResult(statistic=0.6839380588671681, pvalue=6.48073466081761e-25)"
            ]
          },
          "metadata": {},
          "execution_count": 40
        }
      ],
      "source": [
        "stats.shapiro(data_X.V5)"
      ]
    },
    {
      "cell_type": "code",
      "execution_count": 41,
      "metadata": {
        "id": "tt9OmBTITu7N",
        "outputId": "645c773c-0034-48f1-c3c9-4d1fa692847f",
        "colab": {
          "base_uri": "https://localhost:8080/"
        }
      },
      "outputs": [
        {
          "output_type": "execute_result",
          "data": {
            "text/plain": [
              "ShapiroResult(statistic=0.8354936513596574, pvalue=1.6864816314857383e-18)"
            ]
          },
          "metadata": {},
          "execution_count": 41
        }
      ],
      "source": [
        "stats.shapiro(data_X.V6)"
      ]
    },
    {
      "cell_type": "markdown",
      "source": [
        "Con un nivel de confianza del 95%, se rechazan las Ho para V1, V2, V3, V4, V5 y V6\n",
        "\n",
        "las variables no se aproximan a una distribución normal\n",
        "\n",
        "Sólo se usará este tratamiento para fines explicativos, se debe de usar el \"Tratamiento 2\""
      ],
      "metadata": {
        "id": "Rt1EoLkBqPHA"
      }
    },
    {
      "cell_type": "code",
      "execution_count": 42,
      "metadata": {
        "id": "jlsIeM2jTu7N",
        "outputId": "25a6a37d-4bf5-4562-d5d4-30d8014a41aa",
        "colab": {
          "base_uri": "https://localhost:8080/"
        }
      },
      "outputs": [
        {
          "output_type": "stream",
          "name": "stdout",
          "text": [
            "Más alto permitido 103.50370821474814\n"
          ]
        }
      ],
      "source": [
        "#Encontrando los valores límite\n",
        "print(\"Más alto permitido\",data_X['V1'].mean() + 3*data_X['V1'].std())"
      ]
    },
    {
      "cell_type": "code",
      "execution_count": 43,
      "metadata": {
        "id": "b0mBUSr3Tu7O",
        "outputId": "24844d37-af8c-48cb-cb92-7becef26ccfb",
        "colab": {
          "base_uri": "https://localhost:8080/"
        }
      },
      "outputs": [
        {
          "output_type": "stream",
          "name": "stdout",
          "text": [
            "Lo más bajo permitido 76.81513236496201\n"
          ]
        }
      ],
      "source": [
        "print(\"Lo más bajo permitido\",data_X['V1'].mean() - 3*data_X['V1'].std())"
      ]
    },
    {
      "cell_type": "code",
      "execution_count": 44,
      "metadata": {
        "id": "hW-85xE2Tu7O"
      },
      "outputs": [],
      "source": [
        "#Limitación de valores atípicos\n",
        "upper_limit = data_X['V1'].mean() + 3*data_X['V1'].std()\n",
        "lower_limit = data_X['V1'].mean() - 3*data_X['V1'].std()"
      ]
    },
    {
      "cell_type": "code",
      "execution_count": 45,
      "metadata": {
        "id": "Y82t7IgDTu7O",
        "outputId": "e9f57619-4744-4d22-eb0b-82b25b444f37",
        "colab": {
          "base_uri": "https://localhost:8080/",
          "height": 81
        }
      },
      "outputs": [
        {
          "output_type": "execute_result",
          "data": {
            "text/plain": [
              "     V1  V2  V3  V4  V5   V6\n",
              "223  65  63  19  20  14  0.5"
            ],
            "text/html": [
              "\n",
              "  <div id=\"df-69ada5b2-a8c2-4642-81a4-1ef6df863a81\" class=\"colab-df-container\">\n",
              "    <div>\n",
              "<style scoped>\n",
              "    .dataframe tbody tr th:only-of-type {\n",
              "        vertical-align: middle;\n",
              "    }\n",
              "\n",
              "    .dataframe tbody tr th {\n",
              "        vertical-align: top;\n",
              "    }\n",
              "\n",
              "    .dataframe thead th {\n",
              "        text-align: right;\n",
              "    }\n",
              "</style>\n",
              "<table border=\"1\" class=\"dataframe\">\n",
              "  <thead>\n",
              "    <tr style=\"text-align: right;\">\n",
              "      <th></th>\n",
              "      <th>V1</th>\n",
              "      <th>V2</th>\n",
              "      <th>V3</th>\n",
              "      <th>V4</th>\n",
              "      <th>V5</th>\n",
              "      <th>V6</th>\n",
              "    </tr>\n",
              "  </thead>\n",
              "  <tbody>\n",
              "    <tr>\n",
              "      <th>223</th>\n",
              "      <td>65</td>\n",
              "      <td>63</td>\n",
              "      <td>19</td>\n",
              "      <td>20</td>\n",
              "      <td>14</td>\n",
              "      <td>0.5</td>\n",
              "    </tr>\n",
              "  </tbody>\n",
              "</table>\n",
              "</div>\n",
              "    <div class=\"colab-df-buttons\">\n",
              "\n",
              "  <div class=\"colab-df-container\">\n",
              "    <button class=\"colab-df-convert\" onclick=\"convertToInteractive('df-69ada5b2-a8c2-4642-81a4-1ef6df863a81')\"\n",
              "            title=\"Convert this dataframe to an interactive table.\"\n",
              "            style=\"display:none;\">\n",
              "\n",
              "  <svg xmlns=\"http://www.w3.org/2000/svg\" height=\"24px\" viewBox=\"0 -960 960 960\">\n",
              "    <path d=\"M120-120v-720h720v720H120Zm60-500h600v-160H180v160Zm220 220h160v-160H400v160Zm0 220h160v-160H400v160ZM180-400h160v-160H180v160Zm440 0h160v-160H620v160ZM180-180h160v-160H180v160Zm440 0h160v-160H620v160Z\"/>\n",
              "  </svg>\n",
              "    </button>\n",
              "\n",
              "  <style>\n",
              "    .colab-df-container {\n",
              "      display:flex;\n",
              "      gap: 12px;\n",
              "    }\n",
              "\n",
              "    .colab-df-convert {\n",
              "      background-color: #E8F0FE;\n",
              "      border: none;\n",
              "      border-radius: 50%;\n",
              "      cursor: pointer;\n",
              "      display: none;\n",
              "      fill: #1967D2;\n",
              "      height: 32px;\n",
              "      padding: 0 0 0 0;\n",
              "      width: 32px;\n",
              "    }\n",
              "\n",
              "    .colab-df-convert:hover {\n",
              "      background-color: #E2EBFA;\n",
              "      box-shadow: 0px 1px 2px rgba(60, 64, 67, 0.3), 0px 1px 3px 1px rgba(60, 64, 67, 0.15);\n",
              "      fill: #174EA6;\n",
              "    }\n",
              "\n",
              "    .colab-df-buttons div {\n",
              "      margin-bottom: 4px;\n",
              "    }\n",
              "\n",
              "    [theme=dark] .colab-df-convert {\n",
              "      background-color: #3B4455;\n",
              "      fill: #D2E3FC;\n",
              "    }\n",
              "\n",
              "    [theme=dark] .colab-df-convert:hover {\n",
              "      background-color: #434B5C;\n",
              "      box-shadow: 0px 1px 3px 1px rgba(0, 0, 0, 0.15);\n",
              "      filter: drop-shadow(0px 1px 2px rgba(0, 0, 0, 0.3));\n",
              "      fill: #FFFFFF;\n",
              "    }\n",
              "  </style>\n",
              "\n",
              "    <script>\n",
              "      const buttonEl =\n",
              "        document.querySelector('#df-69ada5b2-a8c2-4642-81a4-1ef6df863a81 button.colab-df-convert');\n",
              "      buttonEl.style.display =\n",
              "        google.colab.kernel.accessAllowed ? 'block' : 'none';\n",
              "\n",
              "      async function convertToInteractive(key) {\n",
              "        const element = document.querySelector('#df-69ada5b2-a8c2-4642-81a4-1ef6df863a81');\n",
              "        const dataTable =\n",
              "          await google.colab.kernel.invokeFunction('convertToInteractive',\n",
              "                                                    [key], {});\n",
              "        if (!dataTable) return;\n",
              "\n",
              "        const docLinkHtml = 'Like what you see? Visit the ' +\n",
              "          '<a target=\"_blank\" href=https://colab.research.google.com/notebooks/data_table.ipynb>data table notebook</a>'\n",
              "          + ' to learn more about interactive tables.';\n",
              "        element.innerHTML = '';\n",
              "        dataTable['output_type'] = 'display_data';\n",
              "        await google.colab.output.renderOutput(dataTable, element);\n",
              "        const docLink = document.createElement('div');\n",
              "        docLink.innerHTML = docLinkHtml;\n",
              "        element.appendChild(docLink);\n",
              "      }\n",
              "    </script>\n",
              "  </div>\n",
              "\n",
              "\n",
              "    </div>\n",
              "  </div>\n"
            ],
            "application/vnd.google.colaboratory.intrinsic+json": {
              "type": "dataframe",
              "summary": "{\n  \"name\": \"data_X[(data_X['V1'] > upper_limit) | (data_X['V1'] < lower_limit)]\",\n  \"rows\": 1,\n  \"fields\": [\n    {\n      \"column\": \"V1\",\n      \"properties\": {\n        \"dtype\": \"number\",\n        \"std\": null,\n        \"min\": 65,\n        \"max\": 65,\n        \"num_unique_values\": 1,\n        \"samples\": [\n          65\n        ],\n        \"semantic_type\": \"\",\n        \"description\": \"\"\n      }\n    },\n    {\n      \"column\": \"V2\",\n      \"properties\": {\n        \"dtype\": \"number\",\n        \"std\": null,\n        \"min\": 63,\n        \"max\": 63,\n        \"num_unique_values\": 1,\n        \"samples\": [\n          63\n        ],\n        \"semantic_type\": \"\",\n        \"description\": \"\"\n      }\n    },\n    {\n      \"column\": \"V3\",\n      \"properties\": {\n        \"dtype\": \"number\",\n        \"std\": null,\n        \"min\": 19,\n        \"max\": 19,\n        \"num_unique_values\": 1,\n        \"samples\": [\n          19\n        ],\n        \"semantic_type\": \"\",\n        \"description\": \"\"\n      }\n    },\n    {\n      \"column\": \"V4\",\n      \"properties\": {\n        \"dtype\": \"number\",\n        \"std\": null,\n        \"min\": 20,\n        \"max\": 20,\n        \"num_unique_values\": 1,\n        \"samples\": [\n          20\n        ],\n        \"semantic_type\": \"\",\n        \"description\": \"\"\n      }\n    },\n    {\n      \"column\": \"V5\",\n      \"properties\": {\n        \"dtype\": \"number\",\n        \"std\": null,\n        \"min\": 14,\n        \"max\": 14,\n        \"num_unique_values\": 1,\n        \"samples\": [\n          14\n        ],\n        \"semantic_type\": \"\",\n        \"description\": \"\"\n      }\n    },\n    {\n      \"column\": \"V6\",\n      \"properties\": {\n        \"dtype\": \"number\",\n        \"std\": null,\n        \"min\": 0.5,\n        \"max\": 0.5,\n        \"num_unique_values\": 1,\n        \"samples\": [\n          0.5\n        ],\n        \"semantic_type\": \"\",\n        \"description\": \"\"\n      }\n    }\n  ]\n}"
            }
          },
          "metadata": {},
          "execution_count": 45
        }
      ],
      "source": [
        "#Encontrando los valores atípicos\n",
        "data_X[(data_X['V1'] > upper_limit) | (data_X['V1'] < lower_limit)]"
      ]
    },
    {
      "cell_type": "code",
      "execution_count": 46,
      "metadata": {
        "id": "8H2OPlsHTu7O",
        "outputId": "0b205561-437a-4b33-8ccb-aeee2e705164",
        "colab": {
          "base_uri": "https://localhost:8080/"
        }
      },
      "outputs": [
        {
          "output_type": "execute_result",
          "data": {
            "text/plain": [
              "(345, 6)"
            ]
          },
          "metadata": {},
          "execution_count": 46
        }
      ],
      "source": [
        "data_X.shape"
      ]
    },
    {
      "cell_type": "code",
      "execution_count": 47,
      "metadata": {
        "id": "D9oGVtQfTu7O",
        "outputId": "a386998c-2912-42b4-9f23-fb058265f5e3",
        "colab": {
          "base_uri": "https://localhost:8080/"
        }
      },
      "outputs": [
        {
          "output_type": "execute_result",
          "data": {
            "text/plain": [
              "(344, 6)"
            ]
          },
          "metadata": {},
          "execution_count": 47
        }
      ],
      "source": [
        "#Recorte de valores atípicos\n",
        "new_df = data_X[(data_X['V1'] < upper_limit) & (data_X['V1'] > lower_limit)]\n",
        "new_df.shape"
      ]
    },
    {
      "cell_type": "code",
      "source": [
        "new_df.shape[0]/data_X.shape[0]*100"
      ],
      "metadata": {
        "colab": {
          "base_uri": "https://localhost:8080/"
        },
        "id": "U7kFYzhIrYgQ",
        "outputId": "132e75f1-7780-4907-9a1b-d2065d78281a"
      },
      "execution_count": 48,
      "outputs": [
        {
          "output_type": "execute_result",
          "data": {
            "text/plain": [
              "99.71014492753623"
            ]
          },
          "metadata": {},
          "execution_count": 48
        }
      ]
    },
    {
      "cell_type": "markdown",
      "source": [
        "Esta es donde yo decido elegir los limites"
      ],
      "metadata": {
        "id": "I99YKPttr2ha"
      }
    },
    {
      "cell_type": "code",
      "execution_count": 49,
      "metadata": {
        "id": "CRoqPV0WTu7O"
      },
      "outputs": [],
      "source": [
        "#Aplicación de los límites\n",
        "new_df_cap = data_X.copy()\n",
        "new_df_cap['V1'] = np.where(\n",
        "    new_df_cap['V1']>upper_limit,\n",
        "    upper_limit,\n",
        "    np.where(\n",
        "        new_df_cap['V1']<lower_limit,\n",
        "        lower_limit,\n",
        "        new_df_cap['V1']\n",
        "    )\n",
        ")"
      ]
    },
    {
      "cell_type": "code",
      "execution_count": 50,
      "metadata": {
        "id": "4gWDki2_Tu7O",
        "outputId": "08ea4a25-e755-45c0-a643-95297b76c32c",
        "colab": {
          "base_uri": "https://localhost:8080/",
          "height": 53
        }
      },
      "outputs": [
        {
          "output_type": "execute_result",
          "data": {
            "text/plain": [
              "Empty DataFrame\n",
              "Columns: [V1, V2, V3, V4, V5, V6]\n",
              "Index: []"
            ],
            "text/html": [
              "\n",
              "  <div id=\"df-e0371bdd-bd85-479a-a68a-2ce4a6b7d4ab\" class=\"colab-df-container\">\n",
              "    <div>\n",
              "<style scoped>\n",
              "    .dataframe tbody tr th:only-of-type {\n",
              "        vertical-align: middle;\n",
              "    }\n",
              "\n",
              "    .dataframe tbody tr th {\n",
              "        vertical-align: top;\n",
              "    }\n",
              "\n",
              "    .dataframe thead th {\n",
              "        text-align: right;\n",
              "    }\n",
              "</style>\n",
              "<table border=\"1\" class=\"dataframe\">\n",
              "  <thead>\n",
              "    <tr style=\"text-align: right;\">\n",
              "      <th></th>\n",
              "      <th>V1</th>\n",
              "      <th>V2</th>\n",
              "      <th>V3</th>\n",
              "      <th>V4</th>\n",
              "      <th>V5</th>\n",
              "      <th>V6</th>\n",
              "    </tr>\n",
              "  </thead>\n",
              "  <tbody>\n",
              "  </tbody>\n",
              "</table>\n",
              "</div>\n",
              "    <div class=\"colab-df-buttons\">\n",
              "\n",
              "  <div class=\"colab-df-container\">\n",
              "    <button class=\"colab-df-convert\" onclick=\"convertToInteractive('df-e0371bdd-bd85-479a-a68a-2ce4a6b7d4ab')\"\n",
              "            title=\"Convert this dataframe to an interactive table.\"\n",
              "            style=\"display:none;\">\n",
              "\n",
              "  <svg xmlns=\"http://www.w3.org/2000/svg\" height=\"24px\" viewBox=\"0 -960 960 960\">\n",
              "    <path d=\"M120-120v-720h720v720H120Zm60-500h600v-160H180v160Zm220 220h160v-160H400v160Zm0 220h160v-160H400v160ZM180-400h160v-160H180v160Zm440 0h160v-160H620v160ZM180-180h160v-160H180v160Zm440 0h160v-160H620v160Z\"/>\n",
              "  </svg>\n",
              "    </button>\n",
              "\n",
              "  <style>\n",
              "    .colab-df-container {\n",
              "      display:flex;\n",
              "      gap: 12px;\n",
              "    }\n",
              "\n",
              "    .colab-df-convert {\n",
              "      background-color: #E8F0FE;\n",
              "      border: none;\n",
              "      border-radius: 50%;\n",
              "      cursor: pointer;\n",
              "      display: none;\n",
              "      fill: #1967D2;\n",
              "      height: 32px;\n",
              "      padding: 0 0 0 0;\n",
              "      width: 32px;\n",
              "    }\n",
              "\n",
              "    .colab-df-convert:hover {\n",
              "      background-color: #E2EBFA;\n",
              "      box-shadow: 0px 1px 2px rgba(60, 64, 67, 0.3), 0px 1px 3px 1px rgba(60, 64, 67, 0.15);\n",
              "      fill: #174EA6;\n",
              "    }\n",
              "\n",
              "    .colab-df-buttons div {\n",
              "      margin-bottom: 4px;\n",
              "    }\n",
              "\n",
              "    [theme=dark] .colab-df-convert {\n",
              "      background-color: #3B4455;\n",
              "      fill: #D2E3FC;\n",
              "    }\n",
              "\n",
              "    [theme=dark] .colab-df-convert:hover {\n",
              "      background-color: #434B5C;\n",
              "      box-shadow: 0px 1px 3px 1px rgba(0, 0, 0, 0.15);\n",
              "      filter: drop-shadow(0px 1px 2px rgba(0, 0, 0, 0.3));\n",
              "      fill: #FFFFFF;\n",
              "    }\n",
              "  </style>\n",
              "\n",
              "    <script>\n",
              "      const buttonEl =\n",
              "        document.querySelector('#df-e0371bdd-bd85-479a-a68a-2ce4a6b7d4ab button.colab-df-convert');\n",
              "      buttonEl.style.display =\n",
              "        google.colab.kernel.accessAllowed ? 'block' : 'none';\n",
              "\n",
              "      async function convertToInteractive(key) {\n",
              "        const element = document.querySelector('#df-e0371bdd-bd85-479a-a68a-2ce4a6b7d4ab');\n",
              "        const dataTable =\n",
              "          await google.colab.kernel.invokeFunction('convertToInteractive',\n",
              "                                                    [key], {});\n",
              "        if (!dataTable) return;\n",
              "\n",
              "        const docLinkHtml = 'Like what you see? Visit the ' +\n",
              "          '<a target=\"_blank\" href=https://colab.research.google.com/notebooks/data_table.ipynb>data table notebook</a>'\n",
              "          + ' to learn more about interactive tables.';\n",
              "        element.innerHTML = '';\n",
              "        dataTable['output_type'] = 'display_data';\n",
              "        await google.colab.output.renderOutput(dataTable, element);\n",
              "        const docLink = document.createElement('div');\n",
              "        docLink.innerHTML = docLinkHtml;\n",
              "        element.appendChild(docLink);\n",
              "      }\n",
              "    </script>\n",
              "  </div>\n",
              "\n",
              "\n",
              "    </div>\n",
              "  </div>\n"
            ],
            "application/vnd.google.colaboratory.intrinsic+json": {
              "type": "dataframe",
              "summary": "{\n  \"name\": \"new_df_cap[(new_df_cap['V1'] > upper_limit) | (new_df_cap['V1'] < lower_limit)]\",\n  \"rows\": 0,\n  \"fields\": [\n    {\n      \"column\": \"V1\",\n      \"properties\": {\n        \"dtype\": \"number\",\n        \"std\": null,\n        \"min\": null,\n        \"max\": null,\n        \"num_unique_values\": 0,\n        \"samples\": [],\n        \"semantic_type\": \"\",\n        \"description\": \"\"\n      }\n    },\n    {\n      \"column\": \"V2\",\n      \"properties\": {\n        \"dtype\": \"number\",\n        \"std\": null,\n        \"min\": null,\n        \"max\": null,\n        \"num_unique_values\": 0,\n        \"samples\": [],\n        \"semantic_type\": \"\",\n        \"description\": \"\"\n      }\n    },\n    {\n      \"column\": \"V3\",\n      \"properties\": {\n        \"dtype\": \"number\",\n        \"std\": null,\n        \"min\": null,\n        \"max\": null,\n        \"num_unique_values\": 0,\n        \"samples\": [],\n        \"semantic_type\": \"\",\n        \"description\": \"\"\n      }\n    },\n    {\n      \"column\": \"V4\",\n      \"properties\": {\n        \"dtype\": \"number\",\n        \"std\": null,\n        \"min\": null,\n        \"max\": null,\n        \"num_unique_values\": 0,\n        \"samples\": [],\n        \"semantic_type\": \"\",\n        \"description\": \"\"\n      }\n    },\n    {\n      \"column\": \"V5\",\n      \"properties\": {\n        \"dtype\": \"number\",\n        \"std\": null,\n        \"min\": null,\n        \"max\": null,\n        \"num_unique_values\": 0,\n        \"samples\": [],\n        \"semantic_type\": \"\",\n        \"description\": \"\"\n      }\n    },\n    {\n      \"column\": \"V6\",\n      \"properties\": {\n        \"dtype\": \"number\",\n        \"std\": null,\n        \"min\": null,\n        \"max\": null,\n        \"num_unique_values\": 0,\n        \"samples\": [],\n        \"semantic_type\": \"\",\n        \"description\": \"\"\n      }\n    }\n  ]\n}"
            }
          },
          "metadata": {},
          "execution_count": 50
        }
      ],
      "source": [
        "#Encontrando los valores atípicos\n",
        "new_df_cap[(new_df_cap['V1'] > upper_limit) | (new_df_cap['V1'] < lower_limit)]"
      ]
    },
    {
      "cell_type": "code",
      "execution_count": 51,
      "metadata": {
        "id": "XT53a51lTu7R",
        "outputId": "8d96fa60-2127-4ac0-b029-ef971f2c64ce",
        "colab": {
          "base_uri": "https://localhost:8080/"
        }
      },
      "outputs": [
        {
          "output_type": "execute_result",
          "data": {
            "text/plain": [
              "(345, 6)"
            ]
          },
          "metadata": {},
          "execution_count": 51
        }
      ],
      "source": [
        "new_df_cap.shape"
      ]
    },
    {
      "cell_type": "code",
      "execution_count": 52,
      "metadata": {
        "id": "hTxaKPGRTu7R",
        "outputId": "54e15c2e-b3ed-4bdb-a5e1-e2d9b6bcceee",
        "colab": {
          "base_uri": "https://localhost:8080/",
          "height": 1000
        }
      },
      "outputs": [
        {
          "output_type": "stream",
          "name": "stderr",
          "text": [
            "<ipython-input-52-ed3f4961261b>:3: UserWarning: \n",
            "\n",
            "`distplot` is a deprecated function and will be removed in seaborn v0.14.0.\n",
            "\n",
            "Please adapt your code to use either `displot` (a figure-level function with\n",
            "similar flexibility) or `histplot` (an axes-level function for histograms).\n",
            "\n",
            "For a guide to updating your code to use the new functions, please see\n",
            "https://gist.github.com/mwaskom/de44147ed2974457ad6372750bbe5751\n",
            "\n",
            "  sns.distplot(data_X['V1'])\n",
            "<ipython-input-52-ed3f4961261b>:7: UserWarning: \n",
            "\n",
            "`distplot` is a deprecated function and will be removed in seaborn v0.14.0.\n",
            "\n",
            "Please adapt your code to use either `displot` (a figure-level function with\n",
            "similar flexibility) or `histplot` (an axes-level function for histograms).\n",
            "\n",
            "For a guide to updating your code to use the new functions, please see\n",
            "https://gist.github.com/mwaskom/de44147ed2974457ad6372750bbe5751\n",
            "\n",
            "  sns.distplot(new_df_cap['V1'])\n"
          ]
        },
        {
          "output_type": "display_data",
          "data": {
            "text/plain": [
              "<Figure size 1600x800 with 4 Axes>"
            ],
            "image/png": "[encoded data removed]"
          },
          "metadata": {}
        }
      ],
      "source": [
        "plt.figure(figsize=(16,8))\n",
        "plt.subplot(2,2,1)\n",
        "sns.distplot(data_X['V1'])\n",
        "plt.subplot(2,2,2)\n",
        "sns.boxplot(data_X['V1'])\n",
        "plt.subplot(2,2,3)\n",
        "sns.distplot(new_df_cap['V1'])\n",
        "plt.subplot(2,2,4)\n",
        "sns.boxplot(new_df_cap['V1'])\n",
        "plt.show()"
      ]
    },
    {
      "cell_type": "markdown",
      "source": [
        "## 2.Tratamiento 2\n",
        "###  Las variables no se aproximan a una distribución normal"
      ],
      "metadata": {
        "id": "08TXkuAOsSSX"
      }
    },
    {
      "cell_type": "code",
      "execution_count": 54,
      "metadata": {
        "id": "9Il5wHg6Tu7R",
        "outputId": "ae2f6fc0-1987-4ed2-e84d-d06af006acb3",
        "colab": {
          "base_uri": "https://localhost:8080/",
          "height": 206
        }
      },
      "outputs": [
        {
          "output_type": "execute_result",
          "data": {
            "text/plain": [
              "   V1  V2  V3  V4  V5   V6\n",
              "0  85  92  45  27  31  0.0\n",
              "1  85  64  59  32  23  0.0\n",
              "2  86  54  33  16  54  0.0\n",
              "3  91  78  34  24  36  0.0\n",
              "4  87  70  12  28  10  0.0"
            ],
            "text/html": [
              "\n",
              "  <div id=\"df-1bb65ca6-0fad-4d0f-ae73-e9da07d15769\" class=\"colab-df-container\">\n",
              "    <div>\n",
              "<style scoped>\n",
              "    .dataframe tbody tr th:only-of-type {\n",
              "        vertical-align: middle;\n",
              "    }\n",
              "\n",
              "    .dataframe tbody tr th {\n",
              "        vertical-align: top;\n",
              "    }\n",
              "\n",
              "    .dataframe thead th {\n",
              "        text-align: right;\n",
              "    }\n",
              "</style>\n",
              "<table border=\"1\" class=\"dataframe\">\n",
              "  <thead>\n",
              "    <tr style=\"text-align: right;\">\n",
              "      <th></th>\n",
              "      <th>V1</th>\n",
              "      <th>V2</th>\n",
              "      <th>V3</th>\n",
              "      <th>V4</th>\n",
              "      <th>V5</th>\n",
              "      <th>V6</th>\n",
              "    </tr>\n",
              "  </thead>\n",
              "  <tbody>\n",
              "    <tr>\n",
              "      <th>0</th>\n",
              "      <td>85</td>\n",
              "      <td>92</td>\n",
              "      <td>45</td>\n",
              "      <td>27</td>\n",
              "      <td>31</td>\n",
              "      <td>0.0</td>\n",
              "    </tr>\n",
              "    <tr>\n",
              "      <th>1</th>\n",
              "      <td>85</td>\n",
              "      <td>64</td>\n",
              "      <td>59</td>\n",
              "      <td>32</td>\n",
              "      <td>23</td>\n",
              "      <td>0.0</td>\n",
              "    </tr>\n",
              "    <tr>\n",
              "      <th>2</th>\n",
              "      <td>86</td>\n",
              "      <td>54</td>\n",
              "      <td>33</td>\n",
              "      <td>16</td>\n",
              "      <td>54</td>\n",
              "      <td>0.0</td>\n",
              "    </tr>\n",
              "    <tr>\n",
              "      <th>3</th>\n",
              "      <td>91</td>\n",
              "      <td>78</td>\n",
              "      <td>34</td>\n",
              "      <td>24</td>\n",
              "      <td>36</td>\n",
              "      <td>0.0</td>\n",
              "    </tr>\n",
              "    <tr>\n",
              "      <th>4</th>\n",
              "      <td>87</td>\n",
              "      <td>70</td>\n",
              "      <td>12</td>\n",
              "      <td>28</td>\n",
              "      <td>10</td>\n",
              "      <td>0.0</td>\n",
              "    </tr>\n",
              "  </tbody>\n",
              "</table>\n",
              "</div>\n",
              "    <div class=\"colab-df-buttons\">\n",
              "\n",
              "  <div class=\"colab-df-container\">\n",
              "    <button class=\"colab-df-convert\" onclick=\"convertToInteractive('df-1bb65ca6-0fad-4d0f-ae73-e9da07d15769')\"\n",
              "            title=\"Convert this dataframe to an interactive table.\"\n",
              "            style=\"display:none;\">\n",
              "\n",
              "  <svg xmlns=\"http://www.w3.org/2000/svg\" height=\"24px\" viewBox=\"0 -960 960 960\">\n",
              "    <path d=\"M120-120v-720h720v720H120Zm60-500h600v-160H180v160Zm220 220h160v-160H400v160Zm0 220h160v-160H400v160ZM180-400h160v-160H180v160Zm440 0h160v-160H620v160ZM180-180h160v-160H180v160Zm440 0h160v-160H620v160Z\"/>\n",
              "  </svg>\n",
              "    </button>\n",
              "\n",
              "  <style>\n",
              "    .colab-df-container {\n",
              "      display:flex;\n",
              "      gap: 12px;\n",
              "    }\n",
              "\n",
              "    .colab-df-convert {\n",
              "      background-color: #E8F0FE;\n",
              "      border: none;\n",
              "      border-radius: 50%;\n",
              "      cursor: pointer;\n",
              "      display: none;\n",
              "      fill: #1967D2;\n",
              "      height: 32px;\n",
              "      padding: 0 0 0 0;\n",
              "      width: 32px;\n",
              "    }\n",
              "\n",
              "    .colab-df-convert:hover {\n",
              "      background-color: #E2EBFA;\n",
              "      box-shadow: 0px 1px 2px rgba(60, 64, 67, 0.3), 0px 1px 3px 1px rgba(60, 64, 67, 0.15);\n",
              "      fill: #174EA6;\n",
              "    }\n",
              "\n",
              "    .colab-df-buttons div {\n",
              "      margin-bottom: 4px;\n",
              "    }\n",
              "\n",
              "    [theme=dark] .colab-df-convert {\n",
              "      background-color: #3B4455;\n",
              "      fill: #D2E3FC;\n",
              "    }\n",
              "\n",
              "    [theme=dark] .colab-df-convert:hover {\n",
              "      background-color: #434B5C;\n",
              "      box-shadow: 0px 1px 3px 1px rgba(0, 0, 0, 0.15);\n",
              "      filter: drop-shadow(0px 1px 2px rgba(0, 0, 0, 0.3));\n",
              "      fill: #FFFFFF;\n",
              "    }\n",
              "  </style>\n",
              "\n",
              "    <script>\n",
              "      const buttonEl =\n",
              "        document.querySelector('#df-1bb65ca6-0fad-4d0f-ae73-e9da07d15769 button.colab-df-convert');\n",
              "      buttonEl.style.display =\n",
              "        google.colab.kernel.accessAllowed ? 'block' : 'none';\n",
              "\n",
              "      async function convertToInteractive(key) {\n",
              "        const element = document.querySelector('#df-1bb65ca6-0fad-4d0f-ae73-e9da07d15769');\n",
              "        const dataTable =\n",
              "          await google.colab.kernel.invokeFunction('convertToInteractive',\n",
              "                                                    [key], {});\n",
              "        if (!dataTable) return;\n",
              "\n",
              "        const docLinkHtml = 'Like what you see? Visit the ' +\n",
              "          '<a target=\"_blank\" href=https://colab.research.google.com/notebooks/data_table.ipynb>data table notebook</a>'\n",
              "          + ' to learn more about interactive tables.';\n",
              "        element.innerHTML = '';\n",
              "        dataTable['output_type'] = 'display_data';\n",
              "        await google.colab.output.renderOutput(dataTable, element);\n",
              "        const docLink = document.createElement('div');\n",
              "        docLink.innerHTML = docLinkHtml;\n",
              "        element.appendChild(docLink);\n",
              "      }\n",
              "    </script>\n",
              "  </div>\n",
              "\n",
              "\n",
              "<div id=\"df-6f10a7f5-3979-4e22-bf84-83bf9ce74cd8\">\n",
              "  <button class=\"colab-df-quickchart\" onclick=\"quickchart('df-6f10a7f5-3979-4e22-bf84-83bf9ce74cd8')\"\n",
              "            title=\"Suggest charts\"\n",
              "            style=\"display:none;\">\n",
              "\n",
              "<svg xmlns=\"http://www.w3.org/2000/svg\" height=\"24px\"viewBox=\"0 0 24 24\"\n",
              "     width=\"24px\">\n",
              "    <g>\n",
              "        <path d=\"M19 3H5c-1.1 0-2 .9-2 2v14c0 1.1.9 2 2 2h14c1.1 0 2-.9 2-2V5c0-1.1-.9-2-2-2zM9 17H7v-7h2v7zm4 0h-2V7h2v10zm4 0h-2v-4h2v4z\"/>\n",
              "    </g>\n",
              "</svg>\n",
              "  </button>\n",
              "\n",
              "<style>\n",
              "  .colab-df-quickchart {\n",
              "      --bg-color: #E8F0FE;\n",
              "      --fill-color: #1967D2;\n",
              "      --hover-bg-color: #E2EBFA;\n",
              "      --hover-fill-color: #174EA6;\n",
              "      --disabled-fill-color: #AAA;\n",
              "      --disabled-bg-color: #DDD;\n",
              "  }\n",
              "\n",
              "  [theme=dark] .colab-df-quickchart {\n",
              "      --bg-color: #3B4455;\n",
              "      --fill-color: #D2E3FC;\n",
              "      --hover-bg-color: #434B5C;\n",
              "      --hover-fill-color: #FFFFFF;\n",
              "      --disabled-bg-color: #3B4455;\n",
              "      --disabled-fill-color: #666;\n",
              "  }\n",
              "\n",
              "  .colab-df-quickchart {\n",
              "    background-color: var(--bg-color);\n",
              "    border: none;\n",
              "    border-radius: 50%;\n",
              "    cursor: pointer;\n",
              "    display: none;\n",
              "    fill: var(--fill-color);\n",
              "    height: 32px;\n",
              "    padding: 0;\n",
              "    width: 32px;\n",
              "  }\n",
              "\n",
              "  .colab-df-quickchart:hover {\n",
              "    background-color: var(--hover-bg-color);\n",
              "    box-shadow: 0 1px 2px rgba(60, 64, 67, 0.3), 0 1px 3px 1px rgba(60, 64, 67, 0.15);\n",
              "    fill: var(--button-hover-fill-color);\n",
              "  }\n",
              "\n",
              "  .colab-df-quickchart-complete:disabled,\n",
              "  .colab-df-quickchart-complete:disabled:hover {\n",
              "    background-color: var(--disabled-bg-color);\n",
              "    fill: var(--disabled-fill-color);\n",
              "    box-shadow: none;\n",
              "  }\n",
              "\n",
              "  .colab-df-spinner {\n",
              "    border: 2px solid var(--fill-color);\n",
              "    border-color: transparent;\n",
              "    border-bottom-color: var(--fill-color);\n",
              "    animation:\n",
              "      spin 1s steps(1) infinite;\n",
              "  }\n",
              "\n",
              "  @keyframes spin {\n",
              "    0% {\n",
              "      border-color: transparent;\n",
              "      border-bottom-color: var(--fill-color);\n",
              "      border-left-color: var(--fill-color);\n",
              "    }\n",
              "    20% {\n",
              "      border-color: transparent;\n",
              "      border-left-color: var(--fill-color);\n",
              "      border-top-color: var(--fill-color);\n",
              "    }\n",
              "    30% {\n",
              "      border-color: transparent;\n",
              "      border-left-color: var(--fill-color);\n",
              "      border-top-color: var(--fill-color);\n",
              "      border-right-color: var(--fill-color);\n",
              "    }\n",
              "    40% {\n",
              "      border-color: transparent;\n",
              "      border-right-color: var(--fill-color);\n",
              "      border-top-color: var(--fill-color);\n",
              "    }\n",
              "    60% {\n",
              "      border-color: transparent;\n",
              "      border-right-color: var(--fill-color);\n",
              "    }\n",
              "    80% {\n",
              "      border-color: transparent;\n",
              "      border-right-color: var(--fill-color);\n",
              "      border-bottom-color: var(--fill-color);\n",
              "    }\n",
              "    90% {\n",
              "      border-color: transparent;\n",
              "      border-bottom-color: var(--fill-color);\n",
              "    }\n",
              "  }\n",
              "</style>\n",
              "\n",
              "  <script>\n",
              "    async function quickchart(key) {\n",
              "      const quickchartButtonEl =\n",
              "        document.querySelector('#' + key + ' button');\n",
              "      quickchartButtonEl.disabled = true;  // To prevent multiple clicks.\n",
              "      quickchartButtonEl.classList.add('colab-df-spinner');\n",
              "      try {\n",
              "        const charts = await google.colab.kernel.invokeFunction(\n",
              "            'suggestCharts', [key], {});\n",
              "      } catch (error) {\n",
              "        console.error('Error during call to suggestCharts:', error);\n",
              "      }\n",
              "      quickchartButtonEl.classList.remove('colab-df-spinner');\n",
              "      quickchartButtonEl.classList.add('colab-df-quickchart-complete');\n",
              "    }\n",
              "    (() => {\n",
              "      let quickchartButtonEl =\n",
              "        document.querySelector('#df-6f10a7f5-3979-4e22-bf84-83bf9ce74cd8 button');\n",
              "      quickchartButtonEl.style.display =\n",
              "        google.colab.kernel.accessAllowed ? 'block' : 'none';\n",
              "    })();\n",
              "  </script>\n",
              "</div>\n",
              "\n",
              "    </div>\n",
              "  </div>\n"
            ],
            "application/vnd.google.colaboratory.intrinsic+json": {
              "type": "dataframe",
              "variable_name": "data_X",
              "summary": "{\n  \"name\": \"data_X\",\n  \"rows\": 345,\n  \"fields\": [\n    {\n      \"column\": \"V1\",\n      \"properties\": {\n        \"dtype\": \"number\",\n        \"std\": 4,\n        \"min\": 65,\n        \"max\": 103,\n        \"num_unique_values\": 26,\n        \"samples\": [\n          89,\n          83,\n          85\n        ],\n        \"semantic_type\": \"\",\n        \"description\": \"\"\n      }\n    },\n    {\n      \"column\": \"V2\",\n      \"properties\": {\n        \"dtype\": \"number\",\n        \"std\": 18,\n        \"min\": 23,\n        \"max\": 138,\n        \"num_unique_values\": 78,\n        \"samples\": [\n          50,\n          92,\n          75\n        ],\n        \"semantic_type\": \"\",\n        \"description\": \"\"\n      }\n    },\n    {\n      \"column\": \"V3\",\n      \"properties\": {\n        \"dtype\": \"number\",\n        \"std\": 19,\n        \"min\": 4,\n        \"max\": 155,\n        \"num_unique_values\": 67,\n        \"samples\": [\n          42,\n          18,\n          12\n        ],\n        \"semantic_type\": \"\",\n        \"description\": \"\"\n      }\n    },\n    {\n      \"column\": \"V4\",\n      \"properties\": {\n        \"dtype\": \"number\",\n        \"std\": 10,\n        \"min\": 5,\n        \"max\": 82,\n        \"num_unique_values\": 47,\n        \"samples\": [\n          30,\n          41,\n          8\n        ],\n        \"semantic_type\": \"\",\n        \"description\": \"\"\n      }\n    },\n    {\n      \"column\": \"V5\",\n      \"properties\": {\n        \"dtype\": \"number\",\n        \"std\": 39,\n        \"min\": 5,\n        \"max\": 297,\n        \"num_unique_values\": 94,\n        \"samples\": [\n          53,\n          82,\n          37\n        ],\n        \"semantic_type\": \"\",\n        \"description\": \"\"\n      }\n    },\n    {\n      \"column\": \"V6\",\n      \"properties\": {\n        \"dtype\": \"number\",\n        \"std\": 3.337835264577128,\n        \"min\": 0.0,\n        \"max\": 20.0,\n        \"num_unique_values\": 16,\n        \"samples\": [\n          0.0,\n          0.5,\n          4.0\n        ],\n        \"semantic_type\": \"\",\n        \"description\": \"\"\n      }\n    }\n  ]\n}"
            }
          },
          "metadata": {},
          "execution_count": 54
        }
      ],
      "source": [
        "data_X = data.drop('V7', axis= 1)\n",
        "data_X.head()"
      ]
    },
    {
      "cell_type": "code",
      "execution_count": 55,
      "metadata": {
        "id": "atQDkVn5Tu7R"
      },
      "outputs": [],
      "source": [
        "#Encontrando RIC\n",
        "percentile25 = data_X['V1'].quantile(0.25) #cuartil 1\n",
        "percentile75 = data_X['V1'].quantile(0.75) #cuartil 3\n",
        "ric = percentile75 - percentile25"
      ]
    },
    {
      "cell_type": "markdown",
      "source": [
        "ric = rango inter cuartil\n",
        "\n",
        "\n",
        "![image.png](data:image/png;base64,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)"
      ],
      "metadata": {
        "id": "Ikoozl2svtTv"
      }
    },
    {
      "cell_type": "code",
      "execution_count": 56,
      "metadata": {
        "id": "A3hkKfl0Tu7R"
      },
      "outputs": [],
      "source": [
        "#Limitación de valores atípicos\n",
        "upper_limit = percentile75 + 1.5 * ric\n",
        "lower_limit = percentile25 - 1.5 * ric"
      ]
    },
    {
      "cell_type": "code",
      "execution_count": 57,
      "metadata": {
        "id": "VzlcSg1pTu7S",
        "outputId": "4256ac8a-222b-4dd7-d53e-48905e89ce7e",
        "colab": {
          "base_uri": "https://localhost:8080/"
        }
      },
      "outputs": [
        {
          "output_type": "stream",
          "name": "stdout",
          "text": [
            "102.0\n"
          ]
        }
      ],
      "source": [
        "print(upper_limit)"
      ]
    },
    {
      "cell_type": "code",
      "execution_count": 58,
      "metadata": {
        "id": "rdr-55DWTu7S",
        "outputId": "c0db6ae4-d067-4e47-eb98-3fa1fb994972",
        "colab": {
          "base_uri": "https://localhost:8080/"
        }
      },
      "outputs": [
        {
          "output_type": "stream",
          "name": "stdout",
          "text": [
            "78.0\n"
          ]
        }
      ],
      "source": [
        "print(lower_limit)"
      ]
    },
    {
      "cell_type": "code",
      "execution_count": 59,
      "metadata": {
        "scrolled": true,
        "id": "5BdBnjbITu7S",
        "outputId": "db61dfbe-2593-489b-ca15-f8eb56b5a0f4",
        "colab": {
          "base_uri": "https://localhost:8080/",
          "height": 112
        }
      },
      "outputs": [
        {
          "output_type": "execute_result",
          "data": {
            "text/plain": [
              "      V1  V2  V3  V4  V5   V6\n",
              "68   103  75  19  30  13  1.0\n",
              "223   65  63  19  20  14  0.5"
            ],
            "text/html": [
              "\n",
              "  <div id=\"df-c0cd1564-6d13-4cd5-81f9-fce5e233f7da\" class=\"colab-df-container\">\n",
              "    <div>\n",
              "<style scoped>\n",
              "    .dataframe tbody tr th:only-of-type {\n",
              "        vertical-align: middle;\n",
              "    }\n",
              "\n",
              "    .dataframe tbody tr th {\n",
              "        vertical-align: top;\n",
              "    }\n",
              "\n",
              "    .dataframe thead th {\n",
              "        text-align: right;\n",
              "    }\n",
              "</style>\n",
              "<table border=\"1\" class=\"dataframe\">\n",
              "  <thead>\n",
              "    <tr style=\"text-align: right;\">\n",
              "      <th></th>\n",
              "      <th>V1</th>\n",
              "      <th>V2</th>\n",
              "      <th>V3</th>\n",
              "      <th>V4</th>\n",
              "      <th>V5</th>\n",
              "      <th>V6</th>\n",
              "    </tr>\n",
              "  </thead>\n",
              "  <tbody>\n",
              "    <tr>\n",
              "      <th>68</th>\n",
              "      <td>103</td>\n",
              "      <td>75</td>\n",
              "      <td>19</td>\n",
              "      <td>30</td>\n",
              "      <td>13</td>\n",
              "      <td>1.0</td>\n",
              "    </tr>\n",
              "    <tr>\n",
              "      <th>223</th>\n",
              "      <td>65</td>\n",
              "      <td>63</td>\n",
              "      <td>19</td>\n",
              "      <td>20</td>\n",
              "      <td>14</td>\n",
              "      <td>0.5</td>\n",
              "    </tr>\n",
              "  </tbody>\n",
              "</table>\n",
              "</div>\n",
              "    <div class=\"colab-df-buttons\">\n",
              "\n",
              "  <div class=\"colab-df-container\">\n",
              "    <button class=\"colab-df-convert\" onclick=\"convertToInteractive('df-c0cd1564-6d13-4cd5-81f9-fce5e233f7da')\"\n",
              "            title=\"Convert this dataframe to an interactive table.\"\n",
              "            style=\"display:none;\">\n",
              "\n",
              "  <svg xmlns=\"http://www.w3.org/2000/svg\" height=\"24px\" viewBox=\"0 -960 960 960\">\n",
              "    <path d=\"M120-120v-720h720v720H120Zm60-500h600v-160H180v160Zm220 220h160v-160H400v160Zm0 220h160v-160H400v160ZM180-400h160v-160H180v160Zm440 0h160v-160H620v160ZM180-180h160v-160H180v160Zm440 0h160v-160H620v160Z\"/>\n",
              "  </svg>\n",
              "    </button>\n",
              "\n",
              "  <style>\n",
              "    .colab-df-container {\n",
              "      display:flex;\n",
              "      gap: 12px;\n",
              "    }\n",
              "\n",
              "    .colab-df-convert {\n",
              "      background-color: #E8F0FE;\n",
              "      border: none;\n",
              "      border-radius: 50%;\n",
              "      cursor: pointer;\n",
              "      display: none;\n",
              "      fill: #1967D2;\n",
              "      height: 32px;\n",
              "      padding: 0 0 0 0;\n",
              "      width: 32px;\n",
              "    }\n",
              "\n",
              "    .colab-df-convert:hover {\n",
              "      background-color: #E2EBFA;\n",
              "      box-shadow: 0px 1px 2px rgba(60, 64, 67, 0.3), 0px 1px 3px 1px rgba(60, 64, 67, 0.15);\n",
              "      fill: #174EA6;\n",
              "    }\n",
              "\n",
              "    .colab-df-buttons div {\n",
              "      margin-bottom: 4px;\n",
              "    }\n",
              "\n",
              "    [theme=dark] .colab-df-convert {\n",
              "      background-color: #3B4455;\n",
              "      fill: #D2E3FC;\n",
              "    }\n",
              "\n",
              "    [theme=dark] .colab-df-convert:hover {\n",
              "      background-color: #434B5C;\n",
              "      box-shadow: 0px 1px 3px 1px rgba(0, 0, 0, 0.15);\n",
              "      filter: drop-shadow(0px 1px 2px rgba(0, 0, 0, 0.3));\n",
              "      fill: #FFFFFF;\n",
              "    }\n",
              "  </style>\n",
              "\n",
              "    <script>\n",
              "      const buttonEl =\n",
              "        document.querySelector('#df-c0cd1564-6d13-4cd5-81f9-fce5e233f7da button.colab-df-convert');\n",
              "      buttonEl.style.display =\n",
              "        google.colab.kernel.accessAllowed ? 'block' : 'none';\n",
              "\n",
              "      async function convertToInteractive(key) {\n",
              "        const element = document.querySelector('#df-c0cd1564-6d13-4cd5-81f9-fce5e233f7da');\n",
              "        const dataTable =\n",
              "          await google.colab.kernel.invokeFunction('convertToInteractive',\n",
              "                                                    [key], {});\n",
              "        if (!dataTable) return;\n",
              "\n",
              "        const docLinkHtml = 'Like what you see? Visit the ' +\n",
              "          '<a target=\"_blank\" href=https://colab.research.google.com/notebooks/data_table.ipynb>data table notebook</a>'\n",
              "          + ' to learn more about interactive tables.';\n",
              "        element.innerHTML = '';\n",
              "        dataTable['output_type'] = 'display_data';\n",
              "        await google.colab.output.renderOutput(dataTable, element);\n",
              "        const docLink = document.createElement('div');\n",
              "        docLink.innerHTML = docLinkHtml;\n",
              "        element.appendChild(docLink);\n",
              "      }\n",
              "    </script>\n",
              "  </div>\n",
              "\n",
              "\n",
              "<div id=\"df-31d92958-4689-4b01-be58-57f73c05a9b6\">\n",
              "  <button class=\"colab-df-quickchart\" onclick=\"quickchart('df-31d92958-4689-4b01-be58-57f73c05a9b6')\"\n",
              "            title=\"Suggest charts\"\n",
              "            style=\"display:none;\">\n",
              "\n",
              "<svg xmlns=\"http://www.w3.org/2000/svg\" height=\"24px\"viewBox=\"0 0 24 24\"\n",
              "     width=\"24px\">\n",
              "    <g>\n",
              "        <path d=\"M19 3H5c-1.1 0-2 .9-2 2v14c0 1.1.9 2 2 2h14c1.1 0 2-.9 2-2V5c0-1.1-.9-2-2-2zM9 17H7v-7h2v7zm4 0h-2V7h2v10zm4 0h-2v-4h2v4z\"/>\n",
              "    </g>\n",
              "</svg>\n",
              "  </button>\n",
              "\n",
              "<style>\n",
              "  .colab-df-quickchart {\n",
              "      --bg-color: #E8F0FE;\n",
              "      --fill-color: #1967D2;\n",
              "      --hover-bg-color: #E2EBFA;\n",
              "      --hover-fill-color: #174EA6;\n",
              "      --disabled-fill-color: #AAA;\n",
              "      --disabled-bg-color: #DDD;\n",
              "  }\n",
              "\n",
              "  [theme=dark] .colab-df-quickchart {\n",
              "      --bg-color: #3B4455;\n",
              "      --fill-color: #D2E3FC;\n",
              "      --hover-bg-color: #434B5C;\n",
              "      --hover-fill-color: #FFFFFF;\n",
              "      --disabled-bg-color: #3B4455;\n",
              "      --disabled-fill-color: #666;\n",
              "  }\n",
              "\n",
              "  .colab-df-quickchart {\n",
              "    background-color: var(--bg-color);\n",
              "    border: none;\n",
              "    border-radius: 50%;\n",
              "    cursor: pointer;\n",
              "    display: none;\n",
              "    fill: var(--fill-color);\n",
              "    height: 32px;\n",
              "    padding: 0;\n",
              "    width: 32px;\n",
              "  }\n",
              "\n",
              "  .colab-df-quickchart:hover {\n",
              "    background-color: var(--hover-bg-color);\n",
              "    box-shadow: 0 1px 2px rgba(60, 64, 67, 0.3), 0 1px 3px 1px rgba(60, 64, 67, 0.15);\n",
              "    fill: var(--button-hover-fill-color);\n",
              "  }\n",
              "\n",
              "  .colab-df-quickchart-complete:disabled,\n",
              "  .colab-df-quickchart-complete:disabled:hover {\n",
              "    background-color: var(--disabled-bg-color);\n",
              "    fill: var(--disabled-fill-color);\n",
              "    box-shadow: none;\n",
              "  }\n",
              "\n",
              "  .colab-df-spinner {\n",
              "    border: 2px solid var(--fill-color);\n",
              "    border-color: transparent;\n",
              "    border-bottom-color: var(--fill-color);\n",
              "    animation:\n",
              "      spin 1s steps(1) infinite;\n",
              "  }\n",
              "\n",
              "  @keyframes spin {\n",
              "    0% {\n",
              "      border-color: transparent;\n",
              "      border-bottom-color: var(--fill-color);\n",
              "      border-left-color: var(--fill-color);\n",
              "    }\n",
              "    20% {\n",
              "      border-color: transparent;\n",
              "      border-left-color: var(--fill-color);\n",
              "      border-top-color: var(--fill-color);\n",
              "    }\n",
              "    30% {\n",
              "      border-color: transparent;\n",
              "      border-left-color: var(--fill-color);\n",
              "      border-top-color: var(--fill-color);\n",
              "      border-right-color: var(--fill-color);\n",
              "    }\n",
              "    40% {\n",
              "      border-color: transparent;\n",
              "      border-right-color: var(--fill-color);\n",
              "      border-top-color: var(--fill-color);\n",
              "    }\n",
              "    60% {\n",
              "      border-color: transparent;\n",
              "      border-right-color: var(--fill-color);\n",
              "    }\n",
              "    80% {\n",
              "      border-color: transparent;\n",
              "      border-right-color: var(--fill-color);\n",
              "      border-bottom-color: var(--fill-color);\n",
              "    }\n",
              "    90% {\n",
              "      border-color: transparent;\n",
              "      border-bottom-color: var(--fill-color);\n",
              "    }\n",
              "  }\n",
              "</style>\n",
              "\n",
              "  <script>\n",
              "    async function quickchart(key) {\n",
              "      const quickchartButtonEl =\n",
              "        document.querySelector('#' + key + ' button');\n",
              "      quickchartButtonEl.disabled = true;  // To prevent multiple clicks.\n",
              "      quickchartButtonEl.classList.add('colab-df-spinner');\n",
              "      try {\n",
              "        const charts = await google.colab.kernel.invokeFunction(\n",
              "            'suggestCharts', [key], {});\n",
              "      } catch (error) {\n",
              "        console.error('Error during call to suggestCharts:', error);\n",
              "      }\n",
              "      quickchartButtonEl.classList.remove('colab-df-spinner');\n",
              "      quickchartButtonEl.classList.add('colab-df-quickchart-complete');\n",
              "    }\n",
              "    (() => {\n",
              "      let quickchartButtonEl =\n",
              "        document.querySelector('#df-31d92958-4689-4b01-be58-57f73c05a9b6 button');\n",
              "      quickchartButtonEl.style.display =\n",
              "        google.colab.kernel.accessAllowed ? 'block' : 'none';\n",
              "    })();\n",
              "  </script>\n",
              "</div>\n",
              "\n",
              "    </div>\n",
              "  </div>\n"
            ],
            "application/vnd.google.colaboratory.intrinsic+json": {
              "type": "dataframe",
              "summary": "{\n  \"name\": \"data_X[(data_X['V1'] > upper_limit) | (data_X['V1'] < lower_limit)]\",\n  \"rows\": 2,\n  \"fields\": [\n    {\n      \"column\": \"V1\",\n      \"properties\": {\n        \"dtype\": \"number\",\n        \"std\": 26,\n        \"min\": 65,\n        \"max\": 103,\n        \"num_unique_values\": 2,\n        \"samples\": [\n          65,\n          103\n        ],\n        \"semantic_type\": \"\",\n        \"description\": \"\"\n      }\n    },\n    {\n      \"column\": \"V2\",\n      \"properties\": {\n        \"dtype\": \"number\",\n        \"std\": 8,\n        \"min\": 63,\n        \"max\": 75,\n        \"num_unique_values\": 2,\n        \"samples\": [\n          63,\n          75\n        ],\n        \"semantic_type\": \"\",\n        \"description\": \"\"\n      }\n    },\n    {\n      \"column\": \"V3\",\n      \"properties\": {\n        \"dtype\": \"number\",\n        \"std\": 0,\n        \"min\": 19,\n        \"max\": 19,\n        \"num_unique_values\": 1,\n        \"samples\": [\n          19\n        ],\n        \"semantic_type\": \"\",\n        \"description\": \"\"\n      }\n    },\n    {\n      \"column\": \"V4\",\n      \"properties\": {\n        \"dtype\": \"number\",\n        \"std\": 7,\n        \"min\": 20,\n        \"max\": 30,\n        \"num_unique_values\": 2,\n        \"samples\": [\n          20\n        ],\n        \"semantic_type\": \"\",\n        \"description\": \"\"\n      }\n    },\n    {\n      \"column\": \"V5\",\n      \"properties\": {\n        \"dtype\": \"number\",\n        \"std\": 0,\n        \"min\": 13,\n        \"max\": 14,\n        \"num_unique_values\": 2,\n        \"samples\": [\n          14\n        ],\n        \"semantic_type\": \"\",\n        \"description\": \"\"\n      }\n    },\n    {\n      \"column\": \"V6\",\n      \"properties\": {\n        \"dtype\": \"number\",\n        \"std\": 0.3535533905932738,\n        \"min\": 0.5,\n        \"max\": 1.0,\n        \"num_unique_values\": 2,\n        \"samples\": [\n          0.5\n        ],\n        \"semantic_type\": \"\",\n        \"description\": \"\"\n      }\n    }\n  ]\n}"
            }
          },
          "metadata": {},
          "execution_count": 59
        }
      ],
      "source": [
        "#Encontrando los valores atípicos\n",
        "data_X[(data_X['V1'] > upper_limit) | (data_X['V1'] < lower_limit)]"
      ]
    },
    {
      "cell_type": "code",
      "execution_count": 60,
      "metadata": {
        "id": "g5g7cVA5Tu7S",
        "outputId": "952fd135-55b3-4566-cbe1-82a37921b71c",
        "colab": {
          "base_uri": "https://localhost:8080/"
        }
      },
      "outputs": [
        {
          "output_type": "execute_result",
          "data": {
            "text/plain": [
              "(343, 6)"
            ]
          },
          "metadata": {},
          "execution_count": 60
        }
      ],
      "source": [
        "#Recorte de valores atípicos\n",
        "new_df = data_X[data_X['V1'] < upper_limit]\n",
        "new_df.shape"
      ]
    },
    {
      "cell_type": "code",
      "source": [
        "#impacto\n",
        "new_df.shape[0]/data_X.shape[0]*100"
      ],
      "metadata": {
        "colab": {
          "base_uri": "https://localhost:8080/"
        },
        "id": "3pvYtfhaxVd9",
        "outputId": "affdd8c4-1dc7-4331-89db-a5e5261d05ae"
      },
      "execution_count": 70,
      "outputs": [
        {
          "output_type": "execute_result",
          "data": {
            "text/plain": [
              "99.42028985507247"
            ]
          },
          "metadata": {},
          "execution_count": 70
        }
      ]
    },
    {
      "cell_type": "markdown",
      "source": [
        "reemplazar por los limites en vez de borrarlos para no borrar datos, es una opcion"
      ],
      "metadata": {
        "id": "HCno22wEyJFu"
      }
    },
    {
      "cell_type": "code",
      "execution_count": 71,
      "metadata": {
        "id": "oYiwf22CTu7S"
      },
      "outputs": [],
      "source": [
        "#Aplicación de los límites\n",
        "new_df_cap = data_X.copy()\n",
        "new_df_cap['V1'] = np.where(\n",
        "    new_df_cap['V1'] > upper_limit,\n",
        "    upper_limit,\n",
        "    np.where(\n",
        "        new_df_cap['V1'] < lower_limit,\n",
        "        lower_limit,\n",
        "        new_df_cap['V1']\n",
        "    )\n",
        ")"
      ]
    },
    {
      "cell_type": "code",
      "execution_count": 72,
      "metadata": {
        "id": "lmtVmvCMTu7S",
        "outputId": "1866933e-625e-4ec6-97c4-bc38a83d29ff",
        "colab": {
          "base_uri": "https://localhost:8080/",
          "height": 53
        }
      },
      "outputs": [
        {
          "output_type": "execute_result",
          "data": {
            "text/plain": [
              "Empty DataFrame\n",
              "Columns: [V1, V2, V3, V4, V5, V6]\n",
              "Index: []"
            ],
            "text/html": [
              "\n",
              "  <div id=\"df-bbbf58bb-9d34-4ffc-a66c-f5e635cb53dd\" class=\"colab-df-container\">\n",
              "    <div>\n",
              "<style scoped>\n",
              "    .dataframe tbody tr th:only-of-type {\n",
              "        vertical-align: middle;\n",
              "    }\n",
              "\n",
              "    .dataframe tbody tr th {\n",
              "        vertical-align: top;\n",
              "    }\n",
              "\n",
              "    .dataframe thead th {\n",
              "        text-align: right;\n",
              "    }\n",
              "</style>\n",
              "<table border=\"1\" class=\"dataframe\">\n",
              "  <thead>\n",
              "    <tr style=\"text-align: right;\">\n",
              "      <th></th>\n",
              "      <th>V1</th>\n",
              "      <th>V2</th>\n",
              "      <th>V3</th>\n",
              "      <th>V4</th>\n",
              "      <th>V5</th>\n",
              "      <th>V6</th>\n",
              "    </tr>\n",
              "  </thead>\n",
              "  <tbody>\n",
              "  </tbody>\n",
              "</table>\n",
              "</div>\n",
              "    <div class=\"colab-df-buttons\">\n",
              "\n",
              "  <div class=\"colab-df-container\">\n",
              "    <button class=\"colab-df-convert\" onclick=\"convertToInteractive('df-bbbf58bb-9d34-4ffc-a66c-f5e635cb53dd')\"\n",
              "            title=\"Convert this dataframe to an interactive table.\"\n",
              "            style=\"display:none;\">\n",
              "\n",
              "  <svg xmlns=\"http://www.w3.org/2000/svg\" height=\"24px\" viewBox=\"0 -960 960 960\">\n",
              "    <path d=\"M120-120v-720h720v720H120Zm60-500h600v-160H180v160Zm220 220h160v-160H400v160Zm0 220h160v-160H400v160ZM180-400h160v-160H180v160Zm440 0h160v-160H620v160ZM180-180h160v-160H180v160Zm440 0h160v-160H620v160Z\"/>\n",
              "  </svg>\n",
              "    </button>\n",
              "\n",
              "  <style>\n",
              "    .colab-df-container {\n",
              "      display:flex;\n",
              "      gap: 12px;\n",
              "    }\n",
              "\n",
              "    .colab-df-convert {\n",
              "      background-color: #E8F0FE;\n",
              "      border: none;\n",
              "      border-radius: 50%;\n",
              "      cursor: pointer;\n",
              "      display: none;\n",
              "      fill: #1967D2;\n",
              "      height: 32px;\n",
              "      padding: 0 0 0 0;\n",
              "      width: 32px;\n",
              "    }\n",
              "\n",
              "    .colab-df-convert:hover {\n",
              "      background-color: #E2EBFA;\n",
              "      box-shadow: 0px 1px 2px rgba(60, 64, 67, 0.3), 0px 1px 3px 1px rgba(60, 64, 67, 0.15);\n",
              "      fill: #174EA6;\n",
              "    }\n",
              "\n",
              "    .colab-df-buttons div {\n",
              "      margin-bottom: 4px;\n",
              "    }\n",
              "\n",
              "    [theme=dark] .colab-df-convert {\n",
              "      background-color: #3B4455;\n",
              "      fill: #D2E3FC;\n",
              "    }\n",
              "\n",
              "    [theme=dark] .colab-df-convert:hover {\n",
              "      background-color: #434B5C;\n",
              "      box-shadow: 0px 1px 3px 1px rgba(0, 0, 0, 0.15);\n",
              "      filter: drop-shadow(0px 1px 2px rgba(0, 0, 0, 0.3));\n",
              "      fill: #FFFFFF;\n",
              "    }\n",
              "  </style>\n",
              "\n",
              "    <script>\n",
              "      const buttonEl =\n",
              "        document.querySelector('#df-bbbf58bb-9d34-4ffc-a66c-f5e635cb53dd button.colab-df-convert');\n",
              "      buttonEl.style.display =\n",
              "        google.colab.kernel.accessAllowed ? 'block' : 'none';\n",
              "\n",
              "      async function convertToInteractive(key) {\n",
              "        const element = document.querySelector('#df-bbbf58bb-9d34-4ffc-a66c-f5e635cb53dd');\n",
              "        const dataTable =\n",
              "          await google.colab.kernel.invokeFunction('convertToInteractive',\n",
              "                                                    [key], {});\n",
              "        if (!dataTable) return;\n",
              "\n",
              "        const docLinkHtml = 'Like what you see? Visit the ' +\n",
              "          '<a target=\"_blank\" href=https://colab.research.google.com/notebooks/data_table.ipynb>data table notebook</a>'\n",
              "          + ' to learn more about interactive tables.';\n",
              "        element.innerHTML = '';\n",
              "        dataTable['output_type'] = 'display_data';\n",
              "        await google.colab.output.renderOutput(dataTable, element);\n",
              "        const docLink = document.createElement('div');\n",
              "        docLink.innerHTML = docLinkHtml;\n",
              "        element.appendChild(docLink);\n",
              "      }\n",
              "    </script>\n",
              "  </div>\n",
              "\n",
              "\n",
              "    </div>\n",
              "  </div>\n"
            ],
            "application/vnd.google.colaboratory.intrinsic+json": {
              "type": "dataframe",
              "summary": "{\n  \"name\": \"new_df_cap[(new_df_cap['V1'] > upper_limit) | (new_df_cap['V1'] < lower_limit)]\",\n  \"rows\": 0,\n  \"fields\": [\n    {\n      \"column\": \"V1\",\n      \"properties\": {\n        \"dtype\": \"number\",\n        \"std\": null,\n        \"min\": null,\n        \"max\": null,\n        \"num_unique_values\": 0,\n        \"samples\": [],\n        \"semantic_type\": \"\",\n        \"description\": \"\"\n      }\n    },\n    {\n      \"column\": \"V2\",\n      \"properties\": {\n        \"dtype\": \"number\",\n        \"std\": null,\n        \"min\": null,\n        \"max\": null,\n        \"num_unique_values\": 0,\n        \"samples\": [],\n        \"semantic_type\": \"\",\n        \"description\": \"\"\n      }\n    },\n    {\n      \"column\": \"V3\",\n      \"properties\": {\n        \"dtype\": \"number\",\n        \"std\": null,\n        \"min\": null,\n        \"max\": null,\n        \"num_unique_values\": 0,\n        \"samples\": [],\n        \"semantic_type\": \"\",\n        \"description\": \"\"\n      }\n    },\n    {\n      \"column\": \"V4\",\n      \"properties\": {\n        \"dtype\": \"number\",\n        \"std\": null,\n        \"min\": null,\n        \"max\": null,\n        \"num_unique_values\": 0,\n        \"samples\": [],\n        \"semantic_type\": \"\",\n        \"description\": \"\"\n      }\n    },\n    {\n      \"column\": \"V5\",\n      \"properties\": {\n        \"dtype\": \"number\",\n        \"std\": null,\n        \"min\": null,\n        \"max\": null,\n        \"num_unique_values\": 0,\n        \"samples\": [],\n        \"semantic_type\": \"\",\n        \"description\": \"\"\n      }\n    },\n    {\n      \"column\": \"V6\",\n      \"properties\": {\n        \"dtype\": \"number\",\n        \"std\": null,\n        \"min\": null,\n        \"max\": null,\n        \"num_unique_values\": 0,\n        \"samples\": [],\n        \"semantic_type\": \"\",\n        \"description\": \"\"\n      }\n    }\n  ]\n}"
            }
          },
          "metadata": {},
          "execution_count": 72
        }
      ],
      "source": [
        "#Encontrando los valores atípicos\n",
        "new_df_cap[(new_df_cap['V1'] > upper_limit) | (new_df_cap['V1'] < lower_limit)]"
      ]
    },
    {
      "cell_type": "code",
      "execution_count": 69,
      "metadata": {
        "id": "Qlax9REzTu7S",
        "outputId": "fb98c9c1-96bc-4960-aeb3-051d92dd1e4f",
        "colab": {
          "base_uri": "https://localhost:8080/"
        }
      },
      "outputs": [
        {
          "output_type": "execute_result",
          "data": {
            "text/plain": [
              "(345, 6)"
            ]
          },
          "metadata": {},
          "execution_count": 69
        }
      ],
      "source": [
        "new_df_cap.shape"
      ]
    },
    {
      "cell_type": "code",
      "source": [
        "new_df_cap.shape[0]/data_X.shape[0]*100"
      ],
      "metadata": {
        "colab": {
          "base_uri": "https://localhost:8080/"
        },
        "id": "PDnuz9yWyHaQ",
        "outputId": "963689fa-c78a-4274-9967-9cfa7686b47a"
      },
      "execution_count": 74,
      "outputs": [
        {
          "output_type": "execute_result",
          "data": {
            "text/plain": [
              "100.0"
            ]
          },
          "metadata": {},
          "execution_count": 74
        }
      ]
    },
    {
      "cell_type": "code",
      "execution_count": 73,
      "metadata": {
        "id": "4Awx-cCJTu7S",
        "outputId": "01692e30-246e-4adc-b062-974cba7ca999",
        "colab": {
          "base_uri": "https://localhost:8080/",
          "height": 1000
        }
      },
      "outputs": [
        {
          "output_type": "stream",
          "name": "stderr",
          "text": [
            "<ipython-input-73-ed3f4961261b>:3: UserWarning: \n",
            "\n",
            "`distplot` is a deprecated function and will be removed in seaborn v0.14.0.\n",
            "\n",
            "Please adapt your code to use either `displot` (a figure-level function with\n",
            "similar flexibility) or `histplot` (an axes-level function for histograms).\n",
            "\n",
            "For a guide to updating your code to use the new functions, please see\n",
            "https://gist.github.com/mwaskom/de44147ed2974457ad6372750bbe5751\n",
            "\n",
            "  sns.distplot(data_X['V1'])\n",
            "<ipython-input-73-ed3f4961261b>:7: UserWarning: \n",
            "\n",
            "`distplot` is a deprecated function and will be removed in seaborn v0.14.0.\n",
            "\n",
            "Please adapt your code to use either `displot` (a figure-level function with\n",
            "similar flexibility) or `histplot` (an axes-level function for histograms).\n",
            "\n",
            "For a guide to updating your code to use the new functions, please see\n",
            "https://gist.github.com/mwaskom/de44147ed2974457ad6372750bbe5751\n",
            "\n",
            "  sns.distplot(new_df_cap['V1'])\n"
          ]
        },
        {
          "output_type": "display_data",
          "data": {
            "text/plain": [
              "<Figure size 1600x800 with 4 Axes>"
            ],
            "image/png": "[encoded data removed]"
          },
          "metadata": {}
        }
      ],
      "source": [
        "plt.figure(figsize=(16,8))\n",
        "plt.subplot(2,2,1)\n",
        "sns.distplot(data_X['V1'])\n",
        "plt.subplot(2,2,2)\n",
        "sns.boxplot(data_X['V1'])\n",
        "plt.subplot(2,2,3)\n",
        "sns.distplot(new_df_cap['V1'])\n",
        "plt.subplot(2,2,4)\n",
        "sns.boxplot(new_df_cap['V1'])\n",
        "plt.show()"
      ]
    }
  ],
  "metadata": {
    "kernelspec": {
      "display_name": "Python 3 (ipykernel)",
      "language": "python",
      "name": "python3"
    },
    "language_info": {
      "codemirror_mode": {
        "name": "ipython",
        "version": 3
      },
      "file_extension": ".py",
      "mimetype": "text/x-python",
      "name": "python",
      "nbconvert_exporter": "python",
      "pygments_lexer": "ipython3",
      "version": "3.10.14"
    },
    "colab": {
      "provenance": [],
      "include_colab_link": true
    }
  },
  "nbformat": 4,
  "nbformat_minor": 0
}